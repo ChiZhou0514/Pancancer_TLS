{
 "cells": [
  {
   "cell_type": "code",
   "execution_count": 10,
   "metadata": {
    "scrolled": true
   },
   "outputs": [
    {
     "name": "stderr",
     "output_type": "stream",
     "text": [
      "Warning message:\n",
      "“glm.fit: fitted probabilities numerically 0 or 1 occurred”\n",
      "Warning message:\n",
      "“glm.fit: fitted probabilities numerically 0 or 1 occurred”\n",
      "Warning message:\n",
      "“Ratio of largest to smallest sampling variance extremely large. May not be able to obtain stable results.”\n",
      "Warning message in .filterFeatures(expr, method):\n",
      "“1 genes with constant expression values throuhgout the samples.”\n"
     ]
    },
    {
     "name": "stdout",
     "output_type": "stream",
     "text": [
      "Estimating ssGSEA scores for 1 gene sets.\n",
      "[1] \"Calculating ranks...\"\n",
      "[1] \"Calculating absolute values from ranks...\"\n",
      "  |======================================================================| 100%\n",
      "\n",
      "[1] \"Normalizing...\"\n"
     ]
    },
    {
     "name": "stderr",
     "output_type": "stream",
     "text": [
      "Warning message:\n",
      "“\u001b[1m\u001b[22mThe following aesthetics were dropped during statistical transformation: \u001b[32md, m\u001b[39m\n",
      "\u001b[36mℹ\u001b[39m This can happen when ggplot fails to infer the correct grouping structure in\n",
      "  the data.\n",
      "\u001b[36mℹ\u001b[39m Did you forget to specify a `group` aesthetic or to convert a numerical\n",
      "  variable into a factor?”\n",
      "Warning message in .filterFeatures(expr, method):\n",
      "“1 genes with constant expression values throuhgout the samples.”\n"
     ]
    },
    {
     "name": "stdout",
     "output_type": "stream",
     "text": [
      "Estimating ssGSEA scores for 1 gene sets.\n",
      "[1] \"Calculating ranks...\"\n",
      "[1] \"Calculating absolute values from ranks...\"\n",
      "  |======================================================================| 100%\n",
      "\n",
      "[1] \"Normalizing...\"\n"
     ]
    },
    {
     "name": "stderr",
     "output_type": "stream",
     "text": [
      "Warning message:\n",
      "“\u001b[1m\u001b[22mThe following aesthetics were dropped during statistical transformation: \u001b[32md, m\u001b[39m\n",
      "\u001b[36mℹ\u001b[39m This can happen when ggplot fails to infer the correct grouping structure in\n",
      "  the data.\n",
      "\u001b[36mℹ\u001b[39m Did you forget to specify a `group` aesthetic or to convert a numerical\n",
      "  variable into a factor?”\n",
      "Warning message in .filterFeatures(expr, method):\n",
      "“1 genes with constant expression values throuhgout the samples.”\n"
     ]
    },
    {
     "name": "stdout",
     "output_type": "stream",
     "text": [
      "Estimating ssGSEA scores for 1 gene sets.\n",
      "[1] \"Calculating ranks...\"\n",
      "[1] \"Calculating absolute values from ranks...\"\n",
      "  |======================================================================| 100%\n",
      "\n",
      "[1] \"Normalizing...\"\n"
     ]
    },
    {
     "name": "stderr",
     "output_type": "stream",
     "text": [
      "Warning message:\n",
      "“\u001b[1m\u001b[22mThe following aesthetics were dropped during statistical transformation: \u001b[32md, m\u001b[39m\n",
      "\u001b[36mℹ\u001b[39m This can happen when ggplot fails to infer the correct grouping structure in\n",
      "  the data.\n",
      "\u001b[36mℹ\u001b[39m Did you forget to specify a `group` aesthetic or to convert a numerical\n",
      "  variable into a factor?”\n",
      "Warning message in .filterFeatures(expr, method):\n",
      "“1 genes with constant expression values throuhgout the samples.”\n"
     ]
    },
    {
     "name": "stdout",
     "output_type": "stream",
     "text": [
      "Estimating ssGSEA scores for 1 gene sets.\n",
      "[1] \"Calculating ranks...\"\n",
      "[1] \"Calculating absolute values from ranks...\"\n",
      "  |======================================================================| 100%\n",
      "\n",
      "[1] \"Normalizing...\"\n"
     ]
    },
    {
     "name": "stderr",
     "output_type": "stream",
     "text": [
      "Warning message:\n",
      "“\u001b[1m\u001b[22mThe following aesthetics were dropped during statistical transformation: \u001b[32md, m\u001b[39m\n",
      "\u001b[36mℹ\u001b[39m This can happen when ggplot fails to infer the correct grouping structure in\n",
      "  the data.\n",
      "\u001b[36mℹ\u001b[39m Did you forget to specify a `group` aesthetic or to convert a numerical\n",
      "  variable into a factor?”\n",
      "Warning message in .filterFeatures(expr, method):\n",
      "“1 genes with constant expression values throuhgout the samples.”\n"
     ]
    },
    {
     "name": "stdout",
     "output_type": "stream",
     "text": [
      "Estimating ssGSEA scores for 1 gene sets.\n",
      "[1] \"Calculating ranks...\"\n",
      "[1] \"Calculating absolute values from ranks...\"\n",
      "  |======================================================================| 100%\n",
      "\n",
      "[1] \"Normalizing...\"\n"
     ]
    },
    {
     "name": "stderr",
     "output_type": "stream",
     "text": [
      "Warning message:\n",
      "“\u001b[1m\u001b[22mThe following aesthetics were dropped during statistical transformation: \u001b[32md, m\u001b[39m\n",
      "\u001b[36mℹ\u001b[39m This can happen when ggplot fails to infer the correct grouping structure in\n",
      "  the data.\n",
      "\u001b[36mℹ\u001b[39m Did you forget to specify a `group` aesthetic or to convert a numerical\n",
      "  variable into a factor?”\n"
     ]
    },
    {
     "data": {
      "text/html": [
       "<ol>\n",
       "\t<li>1</li>\n",
       "\t<li>2</li>\n",
       "\t<li>3</li>\n",
       "\t<li>4</li>\n",
       "\t<li>5</li>\n",
       "\t<li>6</li>\n",
       "\t<li>7</li>\n",
       "\t<li>8</li>\n",
       "\t<li>9</li>\n",
       "\t<li>10</li>\n",
       "\t<li>11</li>\n",
       "\t<li>12</li>\n",
       "</ol>\n"
      ],
      "text/latex": [
       "\\begin{enumerate}\n",
       "\\item 1\n",
       "\\item 2\n",
       "\\item 3\n",
       "\\item 4\n",
       "\\item 5\n",
       "\\item 6\n",
       "\\item 7\n",
       "\\item 8\n",
       "\\item 9\n",
       "\\item 10\n",
       "\\item 11\n",
       "\\item 12\n",
       "\\end{enumerate}\n"
      ],
      "text/markdown": [
       "1. 1\n",
       "2. 2\n",
       "3. 3\n",
       "4. 4\n",
       "5. 5\n",
       "6. 6\n",
       "7. 7\n",
       "8. 8\n",
       "9. 9\n",
       "10. 10\n",
       "11. 11\n",
       "12. 12\n",
       "\n",
       "\n"
      ],
      "text/plain": [
       "[[1]]\n",
       "[1] 1\n",
       "\n",
       "[[2]]\n",
       "[1] 2\n",
       "\n",
       "[[3]]\n",
       "[1] 3\n",
       "\n",
       "[[4]]\n",
       "[1] 4\n",
       "\n",
       "[[5]]\n",
       "[1] 5\n",
       "\n",
       "[[6]]\n",
       "[1] 6\n",
       "\n",
       "[[7]]\n",
       "[1] 7\n",
       "\n",
       "[[8]]\n",
       "[1] 8\n",
       "\n",
       "[[9]]\n",
       "[1] 9\n",
       "\n",
       "[[10]]\n",
       "[1] 10\n",
       "\n",
       "[[11]]\n",
       "[1] 11\n",
       "\n",
       "[[12]]\n",
       "[1] 12\n"
      ]
     },
     "metadata": {},
     "output_type": "display_data"
    },
    {
     "data": {
      "text/html": [
       "<strong>png:</strong> 2"
      ],
      "text/latex": [
       "\\textbf{png:} 2"
      ],
      "text/markdown": [
       "**png:** 2"
      ],
      "text/plain": [
       "png \n",
       "  2 "
      ]
     },
     "metadata": {},
     "output_type": "display_data"
    }
   ],
   "source": [
    "setwd(\"/home/zcfang/\")\n",
    "all_sample <- c(3,5,12,13,15)\n",
    "cutoff <- 0.145\n",
    "\n",
    "\n",
    "suppressMessages(library(tidyverse))\n",
    "suppressMessages(library(GSVA))\n",
    "suppressMessages(library(meta))\n",
    "suppressMessages(library(metafor))\n",
    "suppressMessages(library(ggplot2))\n",
    "suppressMessages(library(reshape2))\n",
    "suppressMessages(library(RColorBrewer))\n",
    "suppressMessages(library(beeswarm))\n",
    "suppressMessages(library(plotROC))\n",
    "suppressMessages(library(survcomp))\n",
    "\n",
    "load(\"./TLS_project/data/ICB_expr.Rdata\")\n",
    "load(\"./TLS_project/data/ICB_pheno.Rdata\")\n",
    "load(\"./TLS_project/data/gene_signatures.Rdata\")\n",
    "\n",
    "#file = \"./TLS_project/results/denovo_Single_Gene\"\n",
    "#if( dir.exists( file ) ) {\n",
    "#   unlink( file , recursive = TRUE )\n",
    "#}\n",
    "#dir.create( file )\n",
    "\n",
    "total_gene <- c()\n",
    "for (i in 1:length(names(gene_signatures))){\n",
    "    total_gene <- union(total_gene, gene_signatures[[names(gene_signatures)[i]]][,1])\n",
    "}\n",
    "candidate_gene <- total_gene\n",
    "for (i in 1:length(names(ICB_expr))){\n",
    "    candidate_gene <- intersect(candidate_gene, rownames(ICB_expr[[names(ICB_expr)[[i]]]]))\n",
    "}\n",
    "\n",
    "ntest <- length(all_sample)\n",
    "\n",
    "result_per_test <- NULL\n",
    "\n",
    "cancer_type_test <- names(ICB_expr)[all_sample]\n",
    "cancer_type_train <- names(ICB_expr)[setdiff(1:length(names(ICB_expr)), all_sample)]\n",
    "\n",
    "pval = matrix( NA , nrow=length(candidate_gene) , ncol=length(cancer_type_train) )\n",
    "colnames(pval) = cancer_type_train\n",
    "rownames(pval) = candidate_gene\n",
    "coef = matrix( NA , nrow=length(candidate_gene) , ncol=length(cancer_type_train) )\n",
    "colnames(coef) = cancer_type_train\n",
    "rownames(coef) = candidate_gene\n",
    "se = matrix( NA , nrow=length(candidate_gene) , ncol=length(cancer_type_train) )\n",
    "colnames(se) = cancer_type_train\n",
    "rownames(se) = candidate_gene\n",
    "\n",
    "\n",
    "for (per_train in 1:length(cancer_type_train)){\n",
    "    exp <- ICB_expr[[cancer_type_train[per_train]]][rownames(ICB_expr[[cancer_type_train[per_train]]]) %in% candidate_gene, ]\n",
    "    pheno <- ICB_pheno[[cancer_type_train[per_train]]]\n",
    "    for (k in 1:length(rownames(exp))){\n",
    "        g <- exp[k, ] %>% as.numeric() %>% scale()\n",
    "        g[is.na(g)] <- 0\n",
    "        rownames(g) <- colnames(exp[k, ])\n",
    "        pheno$score <- g[match(pheno$sample_id,rownames(g)),]\n",
    "        fit <- glm( pheno$response ~ pheno$score , family=binomial( link=\"logit\" ) )\n",
    "        if (nrow(summary(fit)$coefficients)==1){break}\n",
    "        pval[rownames(exp)[k], cancer_type_train[per_train]] = summary(fit)$coefficients[ 2 , 4 ]\n",
    "        coef[rownames(exp)[k], cancer_type_train[per_train]] = round( summary(fit)$coefficients[ 2 , 1  ] , 2 )\n",
    "        se[rownames(exp)[k], cancer_type_train[per_train]] = round( summary(fit)$coefficients[ 2 , 2 ] , 2 ) \n",
    "    }\n",
    "}\n",
    "fdr <- matrix( p.adjust( pval , method= \"fdr\" ) , ncol= ncol( pval ) , nrow= nrow( pval ) , dimnames= dimnames( pval ) ) \n",
    "\n",
    "\n",
    "meta_res = NULL\n",
    "for(i in 1:nrow(coef)){\n",
    "        data = as.data.frame( cbind( colnames(coef) , coef[ i , ] , se[ i , ] , fdr[ i , ] ) )\n",
    "        colnames(data) = c( \"study\" , \"coef\" , \"se\" , \"fdr\" )\n",
    "        data$coef = as.numeric(as.character( data$coef ))\n",
    "        data$se = as.numeric(as.character( data$se ))\n",
    "        data$fdr = as.numeric(as.character( data$fdr )) \n",
    "        data = data[ !is.na(data$coef) , ]\n",
    "\n",
    "        meta <- metagen( TE = coef,\n",
    "                       seTE = se,\n",
    "                       data = data,\n",
    "                       studlab = study ,\n",
    "                       fixed = FALSE ,\n",
    "                       random = TRUE ,\n",
    "                       control = list( maxiter = 10000 , stepadj=0.5 ) )\n",
    "\n",
    "        meta_res <- rbind( meta_res , c( rownames(coef)[i] , \n",
    "                                       meta$TE.random ,  \n",
    "                                       meta$seTE.random ,  \n",
    "                                       meta$pval.random , \n",
    "                                       meta$I2 , \n",
    "                                       meta$pval.Q ) )\n",
    "        }\n",
    "\n",
    "meta_res = as.data.frame(meta_res)\n",
    "colnames(meta_res) = c( \"gene\" , \"coef\" , \"se\" , \"pval\" , \"I2\" , \"I2_pval\" )\n",
    "meta_res$gene = as.character( meta_res$gene )\n",
    "meta_res$coef = as.numeric(as.character( meta_res$coef ))\n",
    "meta_res$se = as.numeric(as.character( meta_res$se ))\n",
    "meta_res$pval = as.numeric(as.character( meta_res$pval )) \n",
    "meta_res$I2 = as.numeric(as.character( meta_res$I2 ))\n",
    "meta_res$I2_pval = as.numeric(as.character( meta_res$I2_pval )) \n",
    "meta_res$fdr <- p.adjust( meta_res$pval , method= \"fdr\" ) \n",
    "\n",
    "meta_res_filter <- meta_res[which(abs(meta_res$coef) > cutoff),]\n",
    "response_gene <- meta_res_filter[,1][which(meta_res_filter[,2] > 0)] %>% as.data.frame()\n",
    "write.table(response_gene, file = \"./TLS_project/results/denovo_Single_Gene/response_gene.txt\", row.names = F, quote = F, col.names = F)\n",
    "\n",
    "\n",
    "signature_list <- list.files(\"./TLS_project/results/signatures_ICB/\")\n",
    "signature_list <- signature_list[-which(signature_list==\"TMB\")]\n",
    "data_auc <- matrix(data = NA, nrow = length(cancer_type_test), ncol = length(signature_list) + 1 )\n",
    "rownames(data_auc) <- cancer_type_test\n",
    "colnames(data_auc) <- c(signature_list, \"TLSscore\")\n",
    "\n",
    "for (signatureID in signature_list){\n",
    "    prefix <- paste0(\"./TLS_project/results/signatures_ICB/\", signatureID)\n",
    "    auc_RData <- paste0(prefix, \"/AUC.Rdata\")\n",
    "    load( auc_RData )\n",
    "    auc <- as.data.frame(auc)\n",
    "    data_auc[, signatureID] <- auc[match(rownames(data_auc), auc$study) ,]$AUC\n",
    "\n",
    "}\n",
    "\n",
    "data_auc[which(is.na(data_auc))] <- 0\n",
    "\n",
    "for (per_test in 1:length(cancer_type_test)){\n",
    "    df_expression <- ICB_expr[[cancer_type_test[per_test]]]\n",
    "    response_geneset=data.frame(response_gene)\n",
    "    response_ssgsea <- GSVA::gsva(unique(as.matrix(df_expression)),\n",
    "                                  response_geneset,\n",
    "                                  method='ssgsea',\n",
    "                                  mx.diff=TRUE,\n",
    "                                  kcdf='Gaussian',\n",
    "                                  parallel.sz=1)\n",
    "    df_response_ssgsea=as.data.frame(t(response_ssgsea))\n",
    "    colnames(df_response_ssgsea)=\"response_ssgsea\"\n",
    "\n",
    "    pheno_test <- ICB_pheno[[cancer_type_test[per_test]]]\n",
    "    pheno_test$score <- df_response_ssgsea[match(pheno_test$sample_id, rownames(df_response_ssgsea)),]\n",
    "    \n",
    "    d = as.data.frame( cbind( pheno_test$response , pheno_test$score ) )\n",
    "    colnames(d) = c( \"response\" , \"sig\" )\n",
    "    d = d[ !is.na( d$response ) , ]\n",
    "    d$response = as.numeric( as.character( d$response ) )\n",
    "    d$sig = as.numeric( as.character( d$sig ) )\n",
    "    basicplot <- ggplot(d, aes(d = response, m = sig )) + geom_roc(n.cuts = 100, labels = FALSE)\n",
    "    data_auc[cancer_type_test[per_test], \"TLSscore\"] <- calc_auc(basicplot)$AUC\n",
    "\n",
    "}\n",
    "\n",
    "data_auc <- data_auc[,names(sort(colMeans(apply(data_auc, 2, as.numeric))))]\n",
    "\n",
    "\n",
    "\n",
    "##########################################################################\n",
    "##########################################################################\n",
    "df1 = melt(t(data_auc))\n",
    "\n",
    "df2 <- data.frame(cohort=df1$Var2,sig=df1$Var1,auc=as.numeric(df1$value))\n",
    "\n",
    "df2 <- df2[which(!is.na(df2$auc)),]\n",
    "\n",
    "study_color = brewer.pal( n = length(cancer_type_test) ,name = \"Dark2\")\n",
    "names( study_color ) = cancer_type_test\n",
    "\n",
    "\n",
    "\n",
    "pdf( \"./TLS_project/results/summary_figures/boxplot_auc/auc_test.pdf\" , height=9,width=15,bg=\"transparent\", family=\"Times\")\n",
    "zones=matrix(c(1,2), ncol=2, byrow=TRUE)\n",
    "layout(zones, widths=c(3.8,1))\n",
    "\n",
    "\n",
    "################################################\n",
    "################################################\n",
    "## Plot\n",
    "par(mar=c(12,3,3,0))\n",
    "xLabels <- c(signature_list, \"TLSscore\")\n",
    "yLabels <- seq( round( min( df2$auc , na.rm=TRUE ) , 1 ) ,  round( max( df2$auc , na.rm=TRUE ) , 1 ) + 0.2  , by=0.2 )\n",
    "boxplot( auc ~ sig , data= df2 , ylab=\"auc value\" , xlab=\"\" , main=\"\" , \n",
    "         col= \"white\" , \n",
    "         boxlty = 1 , outline= FALSE , axes= FALSE , ylim= c( min( df2$auc ) ,  max(df2$auc)))\n",
    "\n",
    "beeswarm( auc ~ sig , data= df2 , \n",
    "          pwpch =  rep(19,times=length(df2$cohort))  , corral= \"wrap\" , cex= .8 , \n",
    "          pwcol = adjustcolor( study_color[ df2$cohort ] , alpha.f = .9 ) , \n",
    "          add = TRUE)\n",
    "\n",
    "axis(side = 2, at=yLabels, labels= as.character( yLabels ), las= 2,\n",
    "     cex.axis=1,tick=1 , col=\"black\")\n",
    "\n",
    "mtext( \"AUC Distribution across the validation cohorts\" ,cex = 2)\n",
    "for (i in 1:length(signature_list)){\n",
    "  t <- t.test(df2[which(df2$sig==colnames(data_auc)[i]),\"auc\"],as.numeric(data_auc[,\"TLSscore\"]))\n",
    "  #t <- t.test(df2[which(df2$sig==colnames(data_auc)[i]),\"auc\"],as.numeric(data_coef[,\"TLSscore\"]),alternative = \"less\")\n",
    "\n",
    "  label <- ifelse(t$p.value < 0.001, \"***\", \n",
    "                  ifelse(t$p.value < 0.01, \"**\", \n",
    "                         ifelse(t$p.value < 0.05, \"*\", paste0(\"P=\", as.character(round(t$p.value, 3))))))\n",
    "\n",
    "  text(i,0.83,label,cex=1.1)\n",
    "  \n",
    "}\n",
    "\n",
    "\n",
    "Map(axis, side = 1, at=seq( 1 , length(xLabels) , 1 ) , \n",
    "    col.axis = ifelse( xLabels %in% \"TLSscore\" , \"#f9a825\" ,  \"#1976d2\" ), \n",
    "    padj=.5, labels=xLabels, las= 2,\n",
    "    cex.axis=1.2 , tick=1 , col= \"black\" )\n",
    "\n",
    "axis( 1 , at= seq( 1 , length(xLabels) , 1 ) , labels= FALSE )\n",
    "\n",
    "#abline( h= 0 , lty= 2 , lwd= 1 )\n",
    "\n",
    "################################################\n",
    "################################################\n",
    "## Legend\n",
    "\n",
    "par(mar=c(0,0,1,0))\n",
    "plot.new()\n",
    "legend( x=-0.08 , y=.95 ,title=\"Study\",\n",
    "        legend = cancer_type_test,\n",
    "        pt.bg= adjustcolor( study_color[ sort( unique( df2$cohort ) ) ] , alpha.f = .9 ) ,\n",
    "        col= study_color[ sort( unique( df2$cohort ) ) ]  ,\n",
    "        pt.cex= 1 ,\n",
    "        y.intersp=1.2, cex=1.25, pch= c( 21 , 21 , 21 , 21 , 21 , 24 ) , lwd=1, lty=0, bty='n', ncol=1)\n",
    "dev.off()\n"
   ]
  },
  {
   "cell_type": "code",
   "execution_count": 11,
   "metadata": {
    "scrolled": true
   },
   "outputs": [
    {
     "name": "stderr",
     "output_type": "stream",
     "text": [
      "Warning message:\n",
      "“glm.fit: fitted probabilities numerically 0 or 1 occurred”\n",
      "Warning message:\n",
      "“glm.fit: fitted probabilities numerically 0 or 1 occurred”\n",
      "Warning message:\n",
      "“Ratio of largest to smallest sampling variance extremely large. May not be able to obtain stable results.”\n",
      "Warning message in .filterFeatures(expr, method):\n",
      "“1 genes with constant expression values throuhgout the samples.”\n"
     ]
    },
    {
     "name": "stdout",
     "output_type": "stream",
     "text": [
      "Estimating ssGSEA scores for 1 gene sets.\n",
      "[1] \"Calculating ranks...\"\n",
      "[1] \"Calculating absolute values from ranks...\"\n",
      "  |======================================================================| 100%\n",
      "\n",
      "[1] \"Normalizing...\"\n"
     ]
    },
    {
     "name": "stderr",
     "output_type": "stream",
     "text": [
      "Warning message:\n",
      "“\u001b[1m\u001b[22mThe following aesthetics were dropped during statistical transformation: \u001b[32md, m\u001b[39m\n",
      "\u001b[36mℹ\u001b[39m This can happen when ggplot fails to infer the correct grouping structure in\n",
      "  the data.\n",
      "\u001b[36mℹ\u001b[39m Did you forget to specify a `group` aesthetic or to convert a numerical\n",
      "  variable into a factor?”\n"
     ]
    },
    {
     "name": "stdout",
     "output_type": "stream",
     "text": [
      "Estimating ssGSEA scores for 1 gene sets.\n",
      "[1] \"Calculating ranks...\"\n",
      "[1] \"Calculating absolute values from ranks...\"\n",
      "  |======================================================================| 100%\n",
      "\n",
      "[1] \"Normalizing...\"\n"
     ]
    },
    {
     "name": "stderr",
     "output_type": "stream",
     "text": [
      "Warning message:\n",
      "“\u001b[1m\u001b[22mThe following aesthetics were dropped during statistical transformation: \u001b[32md, m\u001b[39m\n",
      "\u001b[36mℹ\u001b[39m This can happen when ggplot fails to infer the correct grouping structure in\n",
      "  the data.\n",
      "\u001b[36mℹ\u001b[39m Did you forget to specify a `group` aesthetic or to convert a numerical\n",
      "  variable into a factor?”\n",
      "Warning message in .filterFeatures(expr, method):\n",
      "“1 genes with constant expression values throuhgout the samples.”\n"
     ]
    },
    {
     "name": "stdout",
     "output_type": "stream",
     "text": [
      "Estimating ssGSEA scores for 1 gene sets.\n",
      "[1] \"Calculating ranks...\"\n",
      "[1] \"Calculating absolute values from ranks...\"\n",
      "  |======================================================================| 100%\n",
      "\n",
      "[1] \"Normalizing...\"\n"
     ]
    },
    {
     "name": "stderr",
     "output_type": "stream",
     "text": [
      "Warning message:\n",
      "“\u001b[1m\u001b[22mThe following aesthetics were dropped during statistical transformation: \u001b[32md, m\u001b[39m\n",
      "\u001b[36mℹ\u001b[39m This can happen when ggplot fails to infer the correct grouping structure in\n",
      "  the data.\n",
      "\u001b[36mℹ\u001b[39m Did you forget to specify a `group` aesthetic or to convert a numerical\n",
      "  variable into a factor?”\n",
      "Warning message in .filterFeatures(expr, method):\n",
      "“1 genes with constant expression values throuhgout the samples.”\n"
     ]
    },
    {
     "name": "stdout",
     "output_type": "stream",
     "text": [
      "Estimating ssGSEA scores for 1 gene sets.\n",
      "[1] \"Calculating ranks...\"\n",
      "[1] \"Calculating absolute values from ranks...\"\n",
      "  |======================================================================| 100%\n",
      "\n",
      "[1] \"Normalizing...\"\n"
     ]
    },
    {
     "name": "stderr",
     "output_type": "stream",
     "text": [
      "Warning message:\n",
      "“\u001b[1m\u001b[22mThe following aesthetics were dropped during statistical transformation: \u001b[32md, m\u001b[39m\n",
      "\u001b[36mℹ\u001b[39m This can happen when ggplot fails to infer the correct grouping structure in\n",
      "  the data.\n",
      "\u001b[36mℹ\u001b[39m Did you forget to specify a `group` aesthetic or to convert a numerical\n",
      "  variable into a factor?”\n",
      "Warning message in .filterFeatures(expr, method):\n",
      "“1 genes with constant expression values throuhgout the samples.”\n"
     ]
    },
    {
     "name": "stdout",
     "output_type": "stream",
     "text": [
      "Estimating ssGSEA scores for 1 gene sets.\n",
      "[1] \"Calculating ranks...\"\n",
      "[1] \"Calculating absolute values from ranks...\"\n",
      "  |======================================================================| 100%\n",
      "\n",
      "[1] \"Normalizing...\"\n"
     ]
    },
    {
     "name": "stderr",
     "output_type": "stream",
     "text": [
      "Warning message:\n",
      "“\u001b[1m\u001b[22mThe following aesthetics were dropped during statistical transformation: \u001b[32md, m\u001b[39m\n",
      "\u001b[36mℹ\u001b[39m This can happen when ggplot fails to infer the correct grouping structure in\n",
      "  the data.\n",
      "\u001b[36mℹ\u001b[39m Did you forget to specify a `group` aesthetic or to convert a numerical\n",
      "  variable into a factor?”\n",
      "Warning message in .filterFeatures(expr, method):\n",
      "“1 genes with constant expression values throuhgout the samples.”\n"
     ]
    },
    {
     "name": "stdout",
     "output_type": "stream",
     "text": [
      "Estimating ssGSEA scores for 1 gene sets.\n",
      "[1] \"Calculating ranks...\"\n",
      "[1] \"Calculating absolute values from ranks...\"\n",
      "  |======================================================================| 100%\n",
      "\n",
      "[1] \"Normalizing...\"\n"
     ]
    },
    {
     "name": "stderr",
     "output_type": "stream",
     "text": [
      "Warning message:\n",
      "“\u001b[1m\u001b[22mThe following aesthetics were dropped during statistical transformation: \u001b[32md, m\u001b[39m\n",
      "\u001b[36mℹ\u001b[39m This can happen when ggplot fails to infer the correct grouping structure in\n",
      "  the data.\n",
      "\u001b[36mℹ\u001b[39m Did you forget to specify a `group` aesthetic or to convert a numerical\n",
      "  variable into a factor?”\n"
     ]
    },
    {
     "name": "stdout",
     "output_type": "stream",
     "text": [
      "Estimating ssGSEA scores for 1 gene sets.\n",
      "[1] \"Calculating ranks...\"\n",
      "[1] \"Calculating absolute values from ranks...\"\n",
      "  |======================================================================| 100%\n",
      "\n",
      "[1] \"Normalizing...\"\n"
     ]
    },
    {
     "name": "stderr",
     "output_type": "stream",
     "text": [
      "Warning message:\n",
      "“\u001b[1m\u001b[22mThe following aesthetics were dropped during statistical transformation: \u001b[32md, m\u001b[39m\n",
      "\u001b[36mℹ\u001b[39m This can happen when ggplot fails to infer the correct grouping structure in\n",
      "  the data.\n",
      "\u001b[36mℹ\u001b[39m Did you forget to specify a `group` aesthetic or to convert a numerical\n",
      "  variable into a factor?”\n",
      "Warning message in .filterFeatures(expr, method):\n",
      "“1 genes with constant expression values throuhgout the samples.”\n"
     ]
    },
    {
     "name": "stdout",
     "output_type": "stream",
     "text": [
      "Estimating ssGSEA scores for 1 gene sets.\n",
      "[1] \"Calculating ranks...\"\n",
      "[1] \"Calculating absolute values from ranks...\"\n",
      "  |======================================================================| 100%\n",
      "\n",
      "[1] \"Normalizing...\"\n"
     ]
    },
    {
     "name": "stderr",
     "output_type": "stream",
     "text": [
      "Warning message:\n",
      "“\u001b[1m\u001b[22mThe following aesthetics were dropped during statistical transformation: \u001b[32md, m\u001b[39m\n",
      "\u001b[36mℹ\u001b[39m This can happen when ggplot fails to infer the correct grouping structure in\n",
      "  the data.\n",
      "\u001b[36mℹ\u001b[39m Did you forget to specify a `group` aesthetic or to convert a numerical\n",
      "  variable into a factor?”\n",
      "Warning message in .filterFeatures(expr, method):\n",
      "“23 genes with constant expression values throuhgout the samples.”\n"
     ]
    },
    {
     "name": "stdout",
     "output_type": "stream",
     "text": [
      "Estimating ssGSEA scores for 1 gene sets.\n",
      "[1] \"Calculating ranks...\"\n",
      "[1] \"Calculating absolute values from ranks...\"\n",
      "  |======================================================================| 100%\n",
      "\n",
      "[1] \"Normalizing...\"\n"
     ]
    },
    {
     "name": "stderr",
     "output_type": "stream",
     "text": [
      "Warning message:\n",
      "“\u001b[1m\u001b[22mThe following aesthetics were dropped during statistical transformation: \u001b[32md, m\u001b[39m\n",
      "\u001b[36mℹ\u001b[39m This can happen when ggplot fails to infer the correct grouping structure in\n",
      "  the data.\n",
      "\u001b[36mℹ\u001b[39m Did you forget to specify a `group` aesthetic or to convert a numerical\n",
      "  variable into a factor?”\n",
      "Warning message in .filterFeatures(expr, method):\n",
      "“1 genes with constant expression values throuhgout the samples.”\n"
     ]
    },
    {
     "name": "stdout",
     "output_type": "stream",
     "text": [
      "Estimating ssGSEA scores for 1 gene sets.\n",
      "[1] \"Calculating ranks...\"\n",
      "[1] \"Calculating absolute values from ranks...\"\n",
      "  |======================================================================| 100%\n",
      "\n",
      "[1] \"Normalizing...\"\n"
     ]
    },
    {
     "name": "stderr",
     "output_type": "stream",
     "text": [
      "Warning message:\n",
      "“\u001b[1m\u001b[22mThe following aesthetics were dropped during statistical transformation: \u001b[32md, m\u001b[39m\n",
      "\u001b[36mℹ\u001b[39m This can happen when ggplot fails to infer the correct grouping structure in\n",
      "  the data.\n",
      "\u001b[36mℹ\u001b[39m Did you forget to specify a `group` aesthetic or to convert a numerical\n",
      "  variable into a factor?”\n",
      "Warning message in wilcox.test.default(df2[which(df2$sig == colnames(data_auc)[i]), :\n",
      "“cannot compute exact p-value with ties”\n",
      "Warning message in wilcox.test.default(df2[which(df2$sig == colnames(data_auc)[i]), :\n",
      "“cannot compute exact p-value with ties”\n",
      "Warning message in wilcox.test.default(df2[which(df2$sig == colnames(data_auc)[i]), :\n",
      "“cannot compute exact p-value with ties”\n",
      "Warning message in wilcox.test.default(df2[which(df2$sig == colnames(data_auc)[i]), :\n",
      "“cannot compute exact p-value with ties”\n"
     ]
    },
    {
     "data": {
      "text/html": [
       "<ol>\n",
       "\t<li>1</li>\n",
       "\t<li>2</li>\n",
       "\t<li>3</li>\n",
       "\t<li>4</li>\n",
       "\t<li>5</li>\n",
       "\t<li>6</li>\n",
       "\t<li>7</li>\n",
       "\t<li>8</li>\n",
       "\t<li>9</li>\n",
       "\t<li>10</li>\n",
       "\t<li>11</li>\n",
       "\t<li>12</li>\n",
       "</ol>\n"
      ],
      "text/latex": [
       "\\begin{enumerate}\n",
       "\\item 1\n",
       "\\item 2\n",
       "\\item 3\n",
       "\\item 4\n",
       "\\item 5\n",
       "\\item 6\n",
       "\\item 7\n",
       "\\item 8\n",
       "\\item 9\n",
       "\\item 10\n",
       "\\item 11\n",
       "\\item 12\n",
       "\\end{enumerate}\n"
      ],
      "text/markdown": [
       "1. 1\n",
       "2. 2\n",
       "3. 3\n",
       "4. 4\n",
       "5. 5\n",
       "6. 6\n",
       "7. 7\n",
       "8. 8\n",
       "9. 9\n",
       "10. 10\n",
       "11. 11\n",
       "12. 12\n",
       "\n",
       "\n"
      ],
      "text/plain": [
       "[[1]]\n",
       "[1] 1\n",
       "\n",
       "[[2]]\n",
       "[1] 2\n",
       "\n",
       "[[3]]\n",
       "[1] 3\n",
       "\n",
       "[[4]]\n",
       "[1] 4\n",
       "\n",
       "[[5]]\n",
       "[1] 5\n",
       "\n",
       "[[6]]\n",
       "[1] 6\n",
       "\n",
       "[[7]]\n",
       "[1] 7\n",
       "\n",
       "[[8]]\n",
       "[1] 8\n",
       "\n",
       "[[9]]\n",
       "[1] 9\n",
       "\n",
       "[[10]]\n",
       "[1] 10\n",
       "\n",
       "[[11]]\n",
       "[1] 11\n",
       "\n",
       "[[12]]\n",
       "[1] 12\n"
      ]
     },
     "metadata": {},
     "output_type": "display_data"
    },
    {
     "data": {
      "text/html": [
       "<strong>png:</strong> 2"
      ],
      "text/latex": [
       "\\textbf{png:} 2"
      ],
      "text/markdown": [
       "**png:** 2"
      ],
      "text/plain": [
       "png \n",
       "  2 "
      ]
     },
     "metadata": {},
     "output_type": "display_data"
    }
   ],
   "source": [
    "\n",
    "all_sample <- c(3,5,12,13,15)\n",
    "cutoff <- 0.145\n",
    "\n",
    "\n",
    "suppressMessages(library(tidyverse))\n",
    "suppressMessages(library(GSVA))\n",
    "suppressMessages(library(meta))\n",
    "suppressMessages(library(metafor))\n",
    "suppressMessages(library(ggplot2))\n",
    "suppressMessages(library(reshape2))\n",
    "suppressMessages(library(RColorBrewer))\n",
    "suppressMessages(library(beeswarm))\n",
    "suppressMessages(library(plotROC))\n",
    "suppressMessages(library(survcomp))\n",
    "\n",
    "load(\"./TLS_project/data/ICB_expr.Rdata\")\n",
    "load(\"./TLS_project/data/ICB_pheno.Rdata\")\n",
    "load(\"./TLS_project/data/gene_signatures.Rdata\")\n",
    "\n",
    "#file = \"./TLS_project/results/denovo_Single_Gene\"\n",
    "#if( dir.exists( file ) ) {\n",
    "#   unlink( file , recursive = TRUE )\n",
    "#}\n",
    "#dir.create( file )\n",
    "\n",
    "total_gene <- c()\n",
    "for (i in 1:length(names(gene_signatures))){\n",
    "    total_gene <- union(total_gene, gene_signatures[[names(gene_signatures)[i]]][,1])\n",
    "}\n",
    "candidate_gene <- total_gene\n",
    "for (i in 1:length(names(ICB_expr))){\n",
    "    candidate_gene <- intersect(candidate_gene, rownames(ICB_expr[[names(ICB_expr)[[i]]]]))\n",
    "}\n",
    "\n",
    "ntest <- length(all_sample)\n",
    "\n",
    "result_per_test <- NULL\n",
    "\n",
    "cancer_type_test <- names(ICB_expr)[all_sample]\n",
    "cancer_type_train <- names(ICB_expr)[setdiff(1:length(names(ICB_expr)), all_sample)]\n",
    "\n",
    "pval = matrix( NA , nrow=length(candidate_gene) , ncol=length(cancer_type_train) )\n",
    "colnames(pval) = cancer_type_train\n",
    "rownames(pval) = candidate_gene\n",
    "coef = matrix( NA , nrow=length(candidate_gene) , ncol=length(cancer_type_train) )\n",
    "colnames(coef) = cancer_type_train\n",
    "rownames(coef) = candidate_gene\n",
    "se = matrix( NA , nrow=length(candidate_gene) , ncol=length(cancer_type_train) )\n",
    "colnames(se) = cancer_type_train\n",
    "rownames(se) = candidate_gene\n",
    "\n",
    "\n",
    "for (per_train in 1:length(cancer_type_train)){\n",
    "    exp <- ICB_expr[[cancer_type_train[per_train]]][rownames(ICB_expr[[cancer_type_train[per_train]]]) %in% candidate_gene, ]\n",
    "    pheno <- ICB_pheno[[cancer_type_train[per_train]]]\n",
    "    for (k in 1:length(rownames(exp))){\n",
    "        g <- exp[k, ] %>% as.numeric() %>% scale()\n",
    "        g[is.na(g)] <- 0\n",
    "        rownames(g) <- colnames(exp[k, ])\n",
    "        pheno$score <- g[match(pheno$sample_id,rownames(g)),]\n",
    "        fit <- glm( pheno$response ~ pheno$score , family=binomial( link=\"logit\" ) )\n",
    "        if (nrow(summary(fit)$coefficients)==1){break}\n",
    "        pval[rownames(exp)[k], cancer_type_train[per_train]] = summary(fit)$coefficients[ 2 , 4 ]\n",
    "        coef[rownames(exp)[k], cancer_type_train[per_train]] = round( summary(fit)$coefficients[ 2 , 1  ] , 2 )\n",
    "        se[rownames(exp)[k], cancer_type_train[per_train]] = round( summary(fit)$coefficients[ 2 , 2 ] , 2 ) \n",
    "    }\n",
    "}\n",
    "fdr <- matrix( p.adjust( pval , method= \"fdr\" ) , ncol= ncol( pval ) , nrow= nrow( pval ) , dimnames= dimnames( pval ) ) \n",
    "\n",
    "\n",
    "meta_res = NULL\n",
    "for(i in 1:nrow(coef)){\n",
    "        data = as.data.frame( cbind( colnames(coef) , coef[ i , ] , se[ i , ] , fdr[ i , ] ) )\n",
    "        colnames(data) = c( \"study\" , \"coef\" , \"se\" , \"fdr\" )\n",
    "        data$coef = as.numeric(as.character( data$coef ))\n",
    "        data$se = as.numeric(as.character( data$se ))\n",
    "        data$fdr = as.numeric(as.character( data$fdr )) \n",
    "        data = data[ !is.na(data$coef) , ]\n",
    "\n",
    "        meta <- metagen( TE = coef,\n",
    "                       seTE = se,\n",
    "                       data = data,\n",
    "                       studlab = study ,\n",
    "                       fixed = FALSE ,\n",
    "                       random = TRUE ,\n",
    "                       control = list( maxiter = 10000 , stepadj=0.5 ) )\n",
    "\n",
    "        meta_res <- rbind( meta_res , c( rownames(coef)[i] , \n",
    "                                       meta$TE.random ,  \n",
    "                                       meta$seTE.random ,  \n",
    "                                       meta$pval.random , \n",
    "                                       meta$I2 , \n",
    "                                       meta$pval.Q ) )\n",
    "        }\n",
    "\n",
    "meta_res = as.data.frame(meta_res)\n",
    "colnames(meta_res) = c( \"gene\" , \"coef\" , \"se\" , \"pval\" , \"I2\" , \"I2_pval\" )\n",
    "meta_res$gene = as.character( meta_res$gene )\n",
    "meta_res$coef = as.numeric(as.character( meta_res$coef ))\n",
    "meta_res$se = as.numeric(as.character( meta_res$se ))\n",
    "meta_res$pval = as.numeric(as.character( meta_res$pval )) \n",
    "meta_res$I2 = as.numeric(as.character( meta_res$I2 ))\n",
    "meta_res$I2_pval = as.numeric(as.character( meta_res$I2_pval )) \n",
    "meta_res$fdr <- p.adjust( meta_res$pval , method= \"fdr\" ) \n",
    "\n",
    "meta_res_filter <- meta_res[which(abs(meta_res$coef) > cutoff),]\n",
    "response_gene <- meta_res_filter[,1][which(meta_res_filter[,2] > 0)] %>% as.data.frame()\n",
    "write.table(response_gene, file = \"./TLS_project/results/denovo_Single_Gene/response_gene.txt\", row.names = F, quote = F, col.names = F)\n",
    "\n",
    "\n",
    "signature_list <- list.files(\"./TLS_project/results/signatures_ICB/\")\n",
    "signature_list <- signature_list[-which(signature_list==\"TMB\")]\n",
    "data_auc <- matrix(data = NA, nrow = length(cancer_type_train), ncol = length(signature_list) + 1 )\n",
    "rownames(data_auc) <- cancer_type_train\n",
    "colnames(data_auc) <- c(signature_list, \"TLSscore\")\n",
    "\n",
    "for (signatureID in signature_list){\n",
    "    prefix <- paste0(\"./TLS_project/results/signatures_ICB/\", signatureID)\n",
    "    auc_RData <- paste0(prefix, \"/AUC.Rdata\")\n",
    "    load( auc_RData )\n",
    "    auc <- as.data.frame(auc)\n",
    "    data_auc[, signatureID] <- auc[match(rownames(data_auc), auc$study) ,]$AUC\n",
    "\n",
    "}\n",
    "\n",
    "data_auc[which(is.na(data_auc))] <- 0\n",
    "\n",
    "for (per_train in 1:length(cancer_type_train)){\n",
    "    df_expression <- ICB_expr[[cancer_type_train[per_train]]]\n",
    "    response_geneset=data.frame(response_gene)\n",
    "    response_ssgsea <- GSVA::gsva(unique(as.matrix(df_expression)),\n",
    "                                  response_geneset,\n",
    "                                  method='ssgsea',\n",
    "                                  mx.diff=TRUE,\n",
    "                                  kcdf='Gaussian',\n",
    "                                  parallel.sz=1)\n",
    "    df_response_ssgsea=as.data.frame(t(response_ssgsea))\n",
    "    colnames(df_response_ssgsea)=\"response_ssgsea\"\n",
    "\n",
    "    pheno_test <- ICB_pheno[[cancer_type_train[per_train]]]\n",
    "    pheno_test$score <- df_response_ssgsea[match(pheno_test$sample_id, rownames(df_response_ssgsea)),]\n",
    "    \n",
    "    d = as.data.frame( cbind( pheno_test$response , pheno_test$score ) )\n",
    "    colnames(d) = c( \"response\" , \"sig\" )\n",
    "    d = d[ !is.na( d$response ) , ]\n",
    "    d$response = as.numeric( as.character( d$response ) )\n",
    "    d$sig = as.numeric( as.character( d$sig ) )\n",
    "    basicplot <- ggplot(d, aes(d = response, m = sig )) + geom_roc(n.cuts = 100, labels = FALSE)\n",
    "    data_auc[cancer_type_train[per_train], \"TLSscore\"] <- calc_auc(basicplot)$AUC\n",
    "\n",
    "}\n",
    "\n",
    "data_auc <- data_auc[,names(sort(colMeans(apply(data_auc, 2, as.numeric))))]\n",
    "\n",
    "\n",
    "\n",
    "##########################################################################\n",
    "##########################################################################\n",
    "df1 = melt(t(data_auc))\n",
    "\n",
    "df2 <- data.frame(cohort=df1$Var2,sig=df1$Var1,auc=as.numeric(df1$value))\n",
    "\n",
    "df2 <- df2[which(!is.na(df2$auc)),]\n",
    "\n",
    "study_color = brewer.pal( n = length(cancer_type_train) ,name = \"Set3\")\n",
    "names( study_color ) = cancer_type_train\n",
    "\n",
    "\n",
    "\n",
    "pdf( \"./TLS_project/results/summary_figures/boxplot_auc/auc_train.pdf\" , height=9,width=15,bg=\"transparent\", family=\"Times\")\n",
    "zones=matrix(c(1,2), ncol=2, byrow=TRUE)\n",
    "layout(zones, widths=c(3.8,1))\n",
    "\n",
    "\n",
    "################################################\n",
    "################################################\n",
    "## Plot\n",
    "par(mar=c(12,3,3,0))\n",
    "xLabels <- c(signature_list, \"TLSscore\")\n",
    "yLabels <- seq( round( min( df2$auc , na.rm=TRUE ) , 1 ) ,  round( max( df2$auc , na.rm=TRUE ) , 1 ) + 0.2  , by=0.2 )\n",
    "boxplot( auc ~ sig , data= df2 , ylab=\"auc value\" , xlab=\"\" , main=\"\" , \n",
    "         col= \"white\" , \n",
    "         boxlty = 1 , outline= FALSE , axes= FALSE , ylim= c( min( df2$auc ) ,  max(df2$auc)))\n",
    "\n",
    "beeswarm( auc ~ sig , data= df2 , \n",
    "          pwpch =  rep(19,times=length(df2$cohort))  , corral= \"wrap\" , cex= .8 , \n",
    "          pwcol = adjustcolor( study_color[ df2$cohort ] , alpha.f = .9 ) , \n",
    "          add = TRUE)\n",
    "\n",
    "axis(side = 2, at=yLabels, labels= as.character( yLabels ), las= 2,\n",
    "     cex.axis=1,tick=1 , col=\"black\")\n",
    "\n",
    "mtext( \"AUC Distribution across the train cohorts\" ,cex = 2)\n",
    "for (i in 1:length(signature_list)){\n",
    "  t <- wilcox.test(df2[which(df2$sig==colnames(data_auc)[i]),\"auc\"],as.numeric(data_auc[,\"TLSscore\"]))\n",
    "  #t <- t.test(df2[which(df2$sig==colnames(data_auc)[i]),\"auc\"],as.numeric(data_coef[,\"TLSscore\"]),alternative = \"less\")\n",
    "\n",
    "  label <- ifelse(t$p.value < 0.001, \"***\", \n",
    "                  ifelse(t$p.value < 0.01, \"**\", \n",
    "                         ifelse(t$p.value < 0.05, \"*\", paste0(\"P=\", as.character(round(t$p.value, 3))))))\n",
    "\n",
    "  text(i,0.88,label,cex=1.1)\n",
    "  \n",
    "}\n",
    "\n",
    "\n",
    "Map(axis, side = 1, at=seq( 1 , length(xLabels) , 1 ) , \n",
    "    col.axis = ifelse( xLabels %in% \"TLSscore\" , \"#f9a825\" ,  \"#1976d2\" ), \n",
    "    padj=.5, labels=xLabels, las= 2,\n",
    "    cex.axis=1.2 , tick=1 , col= \"black\" )\n",
    "\n",
    "axis( 1 , at= seq( 1 , length(xLabels) , 1 ) , labels= FALSE )\n",
    "\n",
    "#abline( h= 0 , lty= 2 , lwd= 1 )\n",
    "\n",
    "################################################\n",
    "################################################\n",
    "## Legend\n",
    "\n",
    "par(mar=c(0,0,1,0))\n",
    "plot.new()\n",
    "legend( x=-0.08 , y=.95 ,title=\"Study\",\n",
    "        legend = cancer_type_train,\n",
    "        pt.bg= adjustcolor( study_color[ sort( unique( df2$cohort ) ) ] , alpha.f = .9 ) ,\n",
    "        col= study_color[ sort( unique( df2$cohort ) ) ]  ,\n",
    "        pt.cex= 1 ,\n",
    "        y.intersp=1.2, cex=1.25, pch= c( 21 , 21 , 21 , 21 , 21 , 24 ) , lwd=1, lty=0, bty='n', ncol=1)\n",
    "dev.off()\n"
   ]
  },
  {
   "cell_type": "code",
   "execution_count": 12,
   "metadata": {},
   "outputs": [
    {
     "data": {
      "text/html": [
       "<table class=\"dataframe\">\n",
       "<caption>A matrix: 10 × 12 of type chr</caption>\n",
       "<thead>\n",
       "\t<tr><th></th><th scope=col>COX_IS</th><th scope=col>gs_12_Chemokine</th><th scope=col>gs_Clubb_James_H_A_etal</th><th scope=col>gs_Meylan_Maxime_etal</th><th scope=col>gs_PagliaruloFabio_etal</th><th scope=col>gs_Wang_Bin_etal</th><th scope=col>gs_Wu_Zhenghao_etal</th><th scope=col>IFN_score</th><th scope=col>infiltration</th><th scope=col>IPRES_score</th><th scope=col>IPS</th><th scope=col>TLSscore</th></tr>\n",
       "</thead>\n",
       "<tbody>\n",
       "\t<tr><th scope=row>Auslander_Melanoma_GSE115821</th><td>0.811111111111111</td><td>0.588888888888889</td><td>0.677777777777778</td><td>0.5              </td><td>0.4              </td><td>0.577777777777778</td><td>0.622222222222222</td><td>0.666666666666667</td><td>0.388888888888889</td><td>0.466666666666667</td><td>0.716666666666667</td><td>0</td></tr>\n",
       "\t<tr><th scope=row>Braun_RCC</th><td>0.534330648254699</td><td>0.524261603375528</td><td>0.523878020713463</td><td>0.507575757575757</td><td>0.546413502109704</td><td>0.491752972765631</td><td>0.5234944380514  </td><td>0.534426543920215</td><td>0.496451860375911</td><td>0.565113156885308</td><td>0.477943996931339</td><td>0</td></tr>\n",
       "\t<tr><th scope=row>Hugo_Melanoma-GSE78220</th><td>0.362637362637363</td><td>0.417582417582417</td><td>0.538461538461538</td><td>0.483516483516484</td><td>0.483516483516484</td><td>0.56043956043956 </td><td>0.478021978021978</td><td>0.532967032967033</td><td>0.664835164835165</td><td>0.214285714285714</td><td>0.653846153846154</td><td>0</td></tr>\n",
       "\t<tr><th scope=row>Kim_GC_PRJEB25780</th><td>0.461988304093567</td><td>0.736006683375104</td><td>0.530492898913951</td><td>0.582289055973267</td><td>0.396825396825397</td><td>0.555555555555556</td><td>0.683375104427736</td><td>0.716791979949875</td><td>0.533834586466165</td><td>0.421052631578947</td><td>0.511695906432749</td><td>0</td></tr>\n",
       "\t<tr><th scope=row>Lauss_Melanoma_GSE100797</th><td>0.386666666666667</td><td>0.733333333333333</td><td>0.733333333333333</td><td>0.633333333333333</td><td>0.753333333333333</td><td>0.693333333333333</td><td>0.733333333333333</td><td>0.72             </td><td>0.626666666666667</td><td>0.586666666666667</td><td>0.366666666666667</td><td>0</td></tr>\n",
       "\t<tr><th scope=row>Liu_Vanallen_Melanoma-phs000452</th><td>0.532627865961199</td><td>0.518342151675485</td><td>0.516754850088183</td><td>0.503174603174603</td><td>0.411816578483245</td><td>0.531216931216931</td><td>0.524691358024691</td><td>0.488536155202822</td><td>0.453439153439153</td><td>0.512874779541446</td><td>0.492063492063492</td><td>0</td></tr>\n",
       "\t<tr><th scope=row>Mariathasan_UC</th><td>0.362079831932773</td><td>0.573319327731093</td><td>0.508876050420168</td><td>0.478676470588235</td><td>0.424789915966387</td><td>0.48765756302521 </td><td>0.534191176470588</td><td>0.563760504201681</td><td>0.543067226890756</td><td>0.405304621848739</td><td>0.576575630252101</td><td>0</td></tr>\n",
       "\t<tr><th scope=row>miao_1_CRCC_1</th><td>0.21875          </td><td>0.828125         </td><td>0.8125           </td><td>0.875            </td><td>0.59375          </td><td>0.578125         </td><td>0.765625         </td><td>0.671875         </td><td>0.59375          </td><td>0.5625           </td><td>0.8125           </td><td>0</td></tr>\n",
       "\t<tr><th scope=row>Nathanson_Melanoma_2017</th><td>0.296875         </td><td>0.71875          </td><td>0.5390625        </td><td>0.4296875        </td><td>0.78125          </td><td>0.625            </td><td>0.6953125        </td><td>0.6875           </td><td>0.503472222222222</td><td>0.46875          </td><td>0.6171875        </td><td>0</td></tr>\n",
       "\t<tr><th scope=row>Snyder_UC</th><td>0.30952380952381 </td><td>0.484126984126984</td><td>0.531746031746032</td><td>0.563492063492063</td><td>0.642857142857143</td><td>0.698412698412698</td><td>0.5              </td><td>0.603174603174603</td><td>0.642857142857143</td><td>0.349206349206349</td><td>0.626984126984127</td><td>0</td></tr>\n",
       "</tbody>\n",
       "</table>\n"
      ],
      "text/latex": [
       "A matrix: 10 × 12 of type chr\n",
       "\\begin{tabular}{r|llllllllllll}\n",
       "  & COX\\_IS & gs\\_12\\_Chemokine & gs\\_Clubb\\_James\\_H\\_A\\_etal & gs\\_Meylan\\_Maxime\\_etal & gs\\_PagliaruloFabio\\_etal & gs\\_Wang\\_Bin\\_etal & gs\\_Wu\\_Zhenghao\\_etal & IFN\\_score & infiltration & IPRES\\_score & IPS & TLSscore\\\\\n",
       "\\hline\n",
       "\tAuslander\\_Melanoma\\_GSE115821 & 0.811111111111111 & 0.588888888888889 & 0.677777777777778 & 0.5               & 0.4               & 0.577777777777778 & 0.622222222222222 & 0.666666666666667 & 0.388888888888889 & 0.466666666666667 & 0.716666666666667 & 0\\\\\n",
       "\tBraun\\_RCC & 0.534330648254699 & 0.524261603375528 & 0.523878020713463 & 0.507575757575757 & 0.546413502109704 & 0.491752972765631 & 0.5234944380514   & 0.534426543920215 & 0.496451860375911 & 0.565113156885308 & 0.477943996931339 & 0\\\\\n",
       "\tHugo\\_Melanoma-GSE78220 & 0.362637362637363 & 0.417582417582417 & 0.538461538461538 & 0.483516483516484 & 0.483516483516484 & 0.56043956043956  & 0.478021978021978 & 0.532967032967033 & 0.664835164835165 & 0.214285714285714 & 0.653846153846154 & 0\\\\\n",
       "\tKim\\_GC\\_PRJEB25780 & 0.461988304093567 & 0.736006683375104 & 0.530492898913951 & 0.582289055973267 & 0.396825396825397 & 0.555555555555556 & 0.683375104427736 & 0.716791979949875 & 0.533834586466165 & 0.421052631578947 & 0.511695906432749 & 0\\\\\n",
       "\tLauss\\_Melanoma\\_GSE100797 & 0.386666666666667 & 0.733333333333333 & 0.733333333333333 & 0.633333333333333 & 0.753333333333333 & 0.693333333333333 & 0.733333333333333 & 0.72              & 0.626666666666667 & 0.586666666666667 & 0.366666666666667 & 0\\\\\n",
       "\tLiu\\_Vanallen\\_Melanoma-phs000452 & 0.532627865961199 & 0.518342151675485 & 0.516754850088183 & 0.503174603174603 & 0.411816578483245 & 0.531216931216931 & 0.524691358024691 & 0.488536155202822 & 0.453439153439153 & 0.512874779541446 & 0.492063492063492 & 0\\\\\n",
       "\tMariathasan\\_UC & 0.362079831932773 & 0.573319327731093 & 0.508876050420168 & 0.478676470588235 & 0.424789915966387 & 0.48765756302521  & 0.534191176470588 & 0.563760504201681 & 0.543067226890756 & 0.405304621848739 & 0.576575630252101 & 0\\\\\n",
       "\tmiao\\_1\\_CRCC\\_1 & 0.21875           & 0.828125          & 0.8125            & 0.875             & 0.59375           & 0.578125          & 0.765625          & 0.671875          & 0.59375           & 0.5625            & 0.8125            & 0\\\\\n",
       "\tNathanson\\_Melanoma\\_2017 & 0.296875          & 0.71875           & 0.5390625         & 0.4296875         & 0.78125           & 0.625             & 0.6953125         & 0.6875            & 0.503472222222222 & 0.46875           & 0.6171875         & 0\\\\\n",
       "\tSnyder\\_UC & 0.30952380952381  & 0.484126984126984 & 0.531746031746032 & 0.563492063492063 & 0.642857142857143 & 0.698412698412698 & 0.5               & 0.603174603174603 & 0.642857142857143 & 0.349206349206349 & 0.626984126984127 & 0\\\\\n",
       "\\end{tabular}\n"
      ],
      "text/markdown": [
       "\n",
       "A matrix: 10 × 12 of type chr\n",
       "\n",
       "| <!--/--> | COX_IS | gs_12_Chemokine | gs_Clubb_James_H_A_etal | gs_Meylan_Maxime_etal | gs_PagliaruloFabio_etal | gs_Wang_Bin_etal | gs_Wu_Zhenghao_etal | IFN_score | infiltration | IPRES_score | IPS | TLSscore |\n",
       "|---|---|---|---|---|---|---|---|---|---|---|---|---|\n",
       "| Auslander_Melanoma_GSE115821 | 0.811111111111111 | 0.588888888888889 | 0.677777777777778 | 0.5               | 0.4               | 0.577777777777778 | 0.622222222222222 | 0.666666666666667 | 0.388888888888889 | 0.466666666666667 | 0.716666666666667 | 0 |\n",
       "| Braun_RCC | 0.534330648254699 | 0.524261603375528 | 0.523878020713463 | 0.507575757575757 | 0.546413502109704 | 0.491752972765631 | 0.5234944380514   | 0.534426543920215 | 0.496451860375911 | 0.565113156885308 | 0.477943996931339 | 0 |\n",
       "| Hugo_Melanoma-GSE78220 | 0.362637362637363 | 0.417582417582417 | 0.538461538461538 | 0.483516483516484 | 0.483516483516484 | 0.56043956043956  | 0.478021978021978 | 0.532967032967033 | 0.664835164835165 | 0.214285714285714 | 0.653846153846154 | 0 |\n",
       "| Kim_GC_PRJEB25780 | 0.461988304093567 | 0.736006683375104 | 0.530492898913951 | 0.582289055973267 | 0.396825396825397 | 0.555555555555556 | 0.683375104427736 | 0.716791979949875 | 0.533834586466165 | 0.421052631578947 | 0.511695906432749 | 0 |\n",
       "| Lauss_Melanoma_GSE100797 | 0.386666666666667 | 0.733333333333333 | 0.733333333333333 | 0.633333333333333 | 0.753333333333333 | 0.693333333333333 | 0.733333333333333 | 0.72              | 0.626666666666667 | 0.586666666666667 | 0.366666666666667 | 0 |\n",
       "| Liu_Vanallen_Melanoma-phs000452 | 0.532627865961199 | 0.518342151675485 | 0.516754850088183 | 0.503174603174603 | 0.411816578483245 | 0.531216931216931 | 0.524691358024691 | 0.488536155202822 | 0.453439153439153 | 0.512874779541446 | 0.492063492063492 | 0 |\n",
       "| Mariathasan_UC | 0.362079831932773 | 0.573319327731093 | 0.508876050420168 | 0.478676470588235 | 0.424789915966387 | 0.48765756302521  | 0.534191176470588 | 0.563760504201681 | 0.543067226890756 | 0.405304621848739 | 0.576575630252101 | 0 |\n",
       "| miao_1_CRCC_1 | 0.21875           | 0.828125          | 0.8125            | 0.875             | 0.59375           | 0.578125          | 0.765625          | 0.671875          | 0.59375           | 0.5625            | 0.8125            | 0 |\n",
       "| Nathanson_Melanoma_2017 | 0.296875          | 0.71875           | 0.5390625         | 0.4296875         | 0.78125           | 0.625             | 0.6953125         | 0.6875            | 0.503472222222222 | 0.46875           | 0.6171875         | 0 |\n",
       "| Snyder_UC | 0.30952380952381  | 0.484126984126984 | 0.531746031746032 | 0.563492063492063 | 0.642857142857143 | 0.698412698412698 | 0.5               | 0.603174603174603 | 0.642857142857143 | 0.349206349206349 | 0.626984126984127 | 0 |\n",
       "\n"
      ],
      "text/plain": [
       "                                COX_IS            gs_12_Chemokine  \n",
       "Auslander_Melanoma_GSE115821    0.811111111111111 0.588888888888889\n",
       "Braun_RCC                       0.534330648254699 0.524261603375528\n",
       "Hugo_Melanoma-GSE78220          0.362637362637363 0.417582417582417\n",
       "Kim_GC_PRJEB25780               0.461988304093567 0.736006683375104\n",
       "Lauss_Melanoma_GSE100797        0.386666666666667 0.733333333333333\n",
       "Liu_Vanallen_Melanoma-phs000452 0.532627865961199 0.518342151675485\n",
       "Mariathasan_UC                  0.362079831932773 0.573319327731093\n",
       "miao_1_CRCC_1                   0.21875           0.828125         \n",
       "Nathanson_Melanoma_2017         0.296875          0.71875          \n",
       "Snyder_UC                       0.30952380952381  0.484126984126984\n",
       "                                gs_Clubb_James_H_A_etal gs_Meylan_Maxime_etal\n",
       "Auslander_Melanoma_GSE115821    0.677777777777778       0.5                  \n",
       "Braun_RCC                       0.523878020713463       0.507575757575757    \n",
       "Hugo_Melanoma-GSE78220          0.538461538461538       0.483516483516484    \n",
       "Kim_GC_PRJEB25780               0.530492898913951       0.582289055973267    \n",
       "Lauss_Melanoma_GSE100797        0.733333333333333       0.633333333333333    \n",
       "Liu_Vanallen_Melanoma-phs000452 0.516754850088183       0.503174603174603    \n",
       "Mariathasan_UC                  0.508876050420168       0.478676470588235    \n",
       "miao_1_CRCC_1                   0.8125                  0.875                \n",
       "Nathanson_Melanoma_2017         0.5390625               0.4296875            \n",
       "Snyder_UC                       0.531746031746032       0.563492063492063    \n",
       "                                gs_PagliaruloFabio_etal gs_Wang_Bin_etal \n",
       "Auslander_Melanoma_GSE115821    0.4                     0.577777777777778\n",
       "Braun_RCC                       0.546413502109704       0.491752972765631\n",
       "Hugo_Melanoma-GSE78220          0.483516483516484       0.56043956043956 \n",
       "Kim_GC_PRJEB25780               0.396825396825397       0.555555555555556\n",
       "Lauss_Melanoma_GSE100797        0.753333333333333       0.693333333333333\n",
       "Liu_Vanallen_Melanoma-phs000452 0.411816578483245       0.531216931216931\n",
       "Mariathasan_UC                  0.424789915966387       0.48765756302521 \n",
       "miao_1_CRCC_1                   0.59375                 0.578125         \n",
       "Nathanson_Melanoma_2017         0.78125                 0.625            \n",
       "Snyder_UC                       0.642857142857143       0.698412698412698\n",
       "                                gs_Wu_Zhenghao_etal IFN_score        \n",
       "Auslander_Melanoma_GSE115821    0.622222222222222   0.666666666666667\n",
       "Braun_RCC                       0.5234944380514     0.534426543920215\n",
       "Hugo_Melanoma-GSE78220          0.478021978021978   0.532967032967033\n",
       "Kim_GC_PRJEB25780               0.683375104427736   0.716791979949875\n",
       "Lauss_Melanoma_GSE100797        0.733333333333333   0.72             \n",
       "Liu_Vanallen_Melanoma-phs000452 0.524691358024691   0.488536155202822\n",
       "Mariathasan_UC                  0.534191176470588   0.563760504201681\n",
       "miao_1_CRCC_1                   0.765625            0.671875         \n",
       "Nathanson_Melanoma_2017         0.6953125           0.6875           \n",
       "Snyder_UC                       0.5                 0.603174603174603\n",
       "                                infiltration      IPRES_score      \n",
       "Auslander_Melanoma_GSE115821    0.388888888888889 0.466666666666667\n",
       "Braun_RCC                       0.496451860375911 0.565113156885308\n",
       "Hugo_Melanoma-GSE78220          0.664835164835165 0.214285714285714\n",
       "Kim_GC_PRJEB25780               0.533834586466165 0.421052631578947\n",
       "Lauss_Melanoma_GSE100797        0.626666666666667 0.586666666666667\n",
       "Liu_Vanallen_Melanoma-phs000452 0.453439153439153 0.512874779541446\n",
       "Mariathasan_UC                  0.543067226890756 0.405304621848739\n",
       "miao_1_CRCC_1                   0.59375           0.5625           \n",
       "Nathanson_Melanoma_2017         0.503472222222222 0.46875          \n",
       "Snyder_UC                       0.642857142857143 0.349206349206349\n",
       "                                IPS               TLSscore\n",
       "Auslander_Melanoma_GSE115821    0.716666666666667 0       \n",
       "Braun_RCC                       0.477943996931339 0       \n",
       "Hugo_Melanoma-GSE78220          0.653846153846154 0       \n",
       "Kim_GC_PRJEB25780               0.511695906432749 0       \n",
       "Lauss_Melanoma_GSE100797        0.366666666666667 0       \n",
       "Liu_Vanallen_Melanoma-phs000452 0.492063492063492 0       \n",
       "Mariathasan_UC                  0.576575630252101 0       \n",
       "miao_1_CRCC_1                   0.8125            0       \n",
       "Nathanson_Melanoma_2017         0.6171875         0       \n",
       "Snyder_UC                       0.626984126984127 0       "
      ]
     },
     "metadata": {},
     "output_type": "display_data"
    }
   ],
   "source": [
    "signature_list <- list.files(\"./TLS_project/results/signatures_ICB/\")\n",
    "signature_list <- signature_list[-which(signature_list==\"TMB\")]\n",
    "data_auc <- matrix(data = NA, nrow = length(cancer_type_train), ncol = length(signature_list) + 1 )\n",
    "rownames(data_auc) <- cancer_type_train\n",
    "colnames(data_auc) <- c(signature_list, \"TLSscore\")\n",
    "\n",
    "for (signatureID in signature_list){\n",
    "    prefix <- paste0(\"./TLS_project/results/signatures_ICB/\", signatureID)\n",
    "    auc_RData <- paste0(prefix, \"/AUC.Rdata\")\n",
    "    load( auc_RData )\n",
    "    auc <- as.data.frame(auc)\n",
    "    data_auc[, signatureID] <- auc[match(rownames(data_auc), auc$study) ,]$AUC\n",
    "\n",
    "}\n",
    "\n",
    "data_auc[which(is.na(data_auc))] <- 0\n",
    "\n",
    "data_auc"
   ]
  },
  {
   "cell_type": "code",
   "execution_count": 9,
   "metadata": {},
   "outputs": [
    {
     "data": {
      "text/html": [],
      "text/latex": [],
      "text/markdown": [],
      "text/plain": [
       "character(0)"
      ]
     },
     "metadata": {},
     "output_type": "display_data"
    }
   ],
   "source": []
  },
  {
   "cell_type": "markdown",
   "metadata": {},
   "source": [
    "# merge"
   ]
  },
  {
   "cell_type": "code",
   "execution_count": 13,
   "metadata": {
    "scrolled": true
   },
   "outputs": [
    {
     "name": "stderr",
     "output_type": "stream",
     "text": [
      "Warning message in .filterFeatures(expr, method):\n",
      "“1 genes with constant expression values throuhgout the samples.”\n"
     ]
    },
    {
     "name": "stdout",
     "output_type": "stream",
     "text": [
      "Estimating ssGSEA scores for 1 gene sets.\n",
      "[1] \"Calculating ranks...\"\n",
      "[1] \"Calculating absolute values from ranks...\"\n",
      "  |======================================================================| 100%\n",
      "\n",
      "[1] \"Normalizing...\"\n"
     ]
    },
    {
     "name": "stderr",
     "output_type": "stream",
     "text": [
      "Warning message in .filterFeatures(expr, method):\n",
      "“1 genes with constant expression values throuhgout the samples.”\n"
     ]
    },
    {
     "name": "stdout",
     "output_type": "stream",
     "text": [
      "Estimating ssGSEA scores for 1 gene sets.\n",
      "[1] \"Calculating ranks...\"\n",
      "[1] \"Calculating absolute values from ranks...\"\n",
      "  |======================================================================| 100%\n",
      "\n",
      "[1] \"Normalizing...\"\n"
     ]
    },
    {
     "name": "stderr",
     "output_type": "stream",
     "text": [
      "Warning message in .filterFeatures(expr, method):\n",
      "“1 genes with constant expression values throuhgout the samples.”\n"
     ]
    },
    {
     "name": "stdout",
     "output_type": "stream",
     "text": [
      "Estimating ssGSEA scores for 1 gene sets.\n",
      "[1] \"Calculating ranks...\"\n",
      "[1] \"Calculating absolute values from ranks...\"\n",
      "  |======================================================================| 100%\n",
      "\n",
      "[1] \"Normalizing...\"\n"
     ]
    },
    {
     "name": "stderr",
     "output_type": "stream",
     "text": [
      "Warning message in .filterFeatures(expr, method):\n",
      "“1 genes with constant expression values throuhgout the samples.”\n"
     ]
    },
    {
     "name": "stdout",
     "output_type": "stream",
     "text": [
      "Estimating ssGSEA scores for 1 gene sets.\n",
      "[1] \"Calculating ranks...\"\n",
      "[1] \"Calculating absolute values from ranks...\"\n",
      "  |======================================================================| 100%\n",
      "\n",
      "[1] \"Normalizing...\"\n"
     ]
    },
    {
     "name": "stderr",
     "output_type": "stream",
     "text": [
      "Warning message in .filterFeatures(expr, method):\n",
      "“1 genes with constant expression values throuhgout the samples.”\n"
     ]
    },
    {
     "name": "stdout",
     "output_type": "stream",
     "text": [
      "Estimating ssGSEA scores for 1 gene sets.\n",
      "[1] \"Calculating ranks...\"\n",
      "[1] \"Calculating absolute values from ranks...\"\n",
      "  |======================================================================| 100%\n",
      "\n",
      "[1] \"Normalizing...\"\n"
     ]
    },
    {
     "name": "stderr",
     "output_type": "stream",
     "text": [
      "Warning message in .filterFeatures(expr, method):\n",
      "“1 genes with constant expression values throuhgout the samples.”\n"
     ]
    },
    {
     "name": "stdout",
     "output_type": "stream",
     "text": [
      "Estimating ssGSEA scores for 1 gene sets.\n",
      "[1] \"Calculating ranks...\"\n",
      "[1] \"Calculating absolute values from ranks...\"\n",
      "  |======================================================================| 100%\n",
      "\n",
      "[1] \"Normalizing...\"\n",
      "Estimating ssGSEA scores for 1 gene sets.\n",
      "[1] \"Calculating ranks...\"\n",
      "[1] \"Calculating absolute values from ranks...\"\n",
      "  |======================================================================| 100%\n",
      "\n",
      "[1] \"Normalizing...\"\n"
     ]
    },
    {
     "name": "stderr",
     "output_type": "stream",
     "text": [
      "Warning message in .filterFeatures(expr, method):\n",
      "“1 genes with constant expression values throuhgout the samples.”\n"
     ]
    },
    {
     "name": "stdout",
     "output_type": "stream",
     "text": [
      "Estimating ssGSEA scores for 1 gene sets.\n",
      "[1] \"Calculating ranks...\"\n",
      "[1] \"Calculating absolute values from ranks...\"\n",
      "  |======================================================================| 100%\n",
      "\n",
      "[1] \"Normalizing...\"\n"
     ]
    },
    {
     "name": "stderr",
     "output_type": "stream",
     "text": [
      "Warning message in .filterFeatures(expr, method):\n",
      "“1 genes with constant expression values throuhgout the samples.”\n"
     ]
    },
    {
     "name": "stdout",
     "output_type": "stream",
     "text": [
      "Estimating ssGSEA scores for 1 gene sets.\n",
      "[1] \"Calculating ranks...\"\n",
      "[1] \"Calculating absolute values from ranks...\"\n",
      "  |======================================================================| 100%\n",
      "\n",
      "[1] \"Normalizing...\"\n"
     ]
    },
    {
     "name": "stderr",
     "output_type": "stream",
     "text": [
      "Warning message in .filterFeatures(expr, method):\n",
      "“1 genes with constant expression values throuhgout the samples.”\n"
     ]
    },
    {
     "name": "stdout",
     "output_type": "stream",
     "text": [
      "Estimating ssGSEA scores for 1 gene sets.\n",
      "[1] \"Calculating ranks...\"\n",
      "[1] \"Calculating absolute values from ranks...\"\n",
      "  |======================================================================| 100%\n",
      "\n",
      "[1] \"Normalizing...\"\n"
     ]
    },
    {
     "name": "stderr",
     "output_type": "stream",
     "text": [
      "Warning message in .filterFeatures(expr, method):\n",
      "“1 genes with constant expression values throuhgout the samples.”\n"
     ]
    },
    {
     "name": "stdout",
     "output_type": "stream",
     "text": [
      "Estimating ssGSEA scores for 1 gene sets.\n",
      "[1] \"Calculating ranks...\"\n",
      "[1] \"Calculating absolute values from ranks...\"\n",
      "  |======================================================================| 100%\n",
      "\n",
      "[1] \"Normalizing...\"\n",
      "Estimating ssGSEA scores for 1 gene sets.\n",
      "[1] \"Calculating ranks...\"\n",
      "[1] \"Calculating absolute values from ranks...\"\n",
      "  |======================================================================| 100%\n",
      "\n",
      "[1] \"Normalizing...\"\n"
     ]
    },
    {
     "name": "stderr",
     "output_type": "stream",
     "text": [
      "Warning message in .filterFeatures(expr, method):\n",
      "“1 genes with constant expression values throuhgout the samples.”\n"
     ]
    },
    {
     "name": "stdout",
     "output_type": "stream",
     "text": [
      "Estimating ssGSEA scores for 1 gene sets.\n",
      "[1] \"Calculating ranks...\"\n",
      "[1] \"Calculating absolute values from ranks...\"\n",
      "  |======================================================================| 100%\n",
      "\n",
      "[1] \"Normalizing...\"\n"
     ]
    },
    {
     "name": "stderr",
     "output_type": "stream",
     "text": [
      "Warning message in .filterFeatures(expr, method):\n",
      "“23 genes with constant expression values throuhgout the samples.”\n"
     ]
    },
    {
     "name": "stdout",
     "output_type": "stream",
     "text": [
      "Estimating ssGSEA scores for 1 gene sets.\n",
      "[1] \"Calculating ranks...\"\n",
      "[1] \"Calculating absolute values from ranks...\"\n",
      "  |======================================================================| 100%\n",
      "\n",
      "[1] \"Normalizing...\"\n"
     ]
    },
    {
     "name": "stderr",
     "output_type": "stream",
     "text": [
      "Warning message in .filterFeatures(expr, method):\n",
      "“1 genes with constant expression values throuhgout the samples.”\n"
     ]
    },
    {
     "name": "stdout",
     "output_type": "stream",
     "text": [
      "Estimating ssGSEA scores for 1 gene sets.\n",
      "[1] \"Calculating ranks...\"\n",
      "[1] \"Calculating absolute values from ranks...\"\n",
      "  |======================================================================| 100%\n",
      "\n",
      "[1] \"Normalizing...\"\n"
     ]
    }
   ],
   "source": [
    "pheno_test_total <- NULL\n",
    "for (per_test in 1:length(cancer_type_test)){\n",
    "    df_expression <- ICB_expr[[cancer_type_test[per_test]]]\n",
    "    response_geneset=data.frame(response_gene)\n",
    "    response_ssgsea <- GSVA::gsva(unique(as.matrix(df_expression)),\n",
    "                                  response_geneset,\n",
    "                                  method='ssgsea',\n",
    "                                  mx.diff=TRUE,\n",
    "                                  kcdf='Gaussian',\n",
    "                                  parallel.sz=1)\n",
    "    df_response_ssgsea=as.data.frame(t(response_ssgsea))\n",
    "    colnames(df_response_ssgsea)=\"response_ssgsea\"\n",
    "\n",
    "    pheno_test <- ICB_pheno[[cancer_type_test[per_test]]]\n",
    "    pheno_test$score <- df_response_ssgsea[match(pheno_test$sample_id, rownames(df_response_ssgsea)),]\n",
    "    pheno_test_total <- rbind(pheno_test_total, pheno_test)\n",
    "    \n",
    "}\n",
    "\n",
    "pheno_train_total <- NULL\n",
    "for (per_train in 1:length(cancer_type_train)){\n",
    "    df_expression <- ICB_expr[[cancer_type_train[per_train]]]\n",
    "    response_geneset=data.frame(response_gene)\n",
    "    response_ssgsea <- GSVA::gsva(unique(as.matrix(df_expression)),\n",
    "                                  response_geneset,\n",
    "                                  method='ssgsea',\n",
    "                                  mx.diff=TRUE,\n",
    "                                  kcdf='Gaussian',\n",
    "                                  parallel.sz=1)\n",
    "    df_response_ssgsea=as.data.frame(t(response_ssgsea))\n",
    "    colnames(df_response_ssgsea)=\"response_ssgsea\"\n",
    "\n",
    "    pheno_train <- ICB_pheno[[cancer_type_train[per_train]]]\n",
    "    pheno_train$score <- df_response_ssgsea[match(pheno_train$sample_id, rownames(df_response_ssgsea)),]\n",
    "    pheno_train_total <- rbind(pheno_train_total, pheno_train)\n",
    "    \n",
    "}"
   ]
  },
  {
   "cell_type": "code",
   "execution_count": 14,
   "metadata": {},
   "outputs": [
    {
     "name": "stderr",
     "output_type": "stream",
     "text": [
      "Warning message:\n",
      "“\u001b[1m\u001b[22mThe following aesthetics were dropped during statistical transformation: \u001b[32md, m\u001b[39m\n",
      "\u001b[36mℹ\u001b[39m This can happen when ggplot fails to infer the correct grouping structure in\n",
      "  the data.\n",
      "\u001b[36mℹ\u001b[39m Did you forget to specify a `group` aesthetic or to convert a numerical\n",
      "  variable into a factor?”\n"
     ]
    },
    {
     "data": {
      "text/html": [
       "0.56401384083045"
      ],
      "text/latex": [
       "0.56401384083045"
      ],
      "text/markdown": [
       "0.56401384083045"
      ],
      "text/plain": [
       "[1] 0.5640138"
      ]
     },
     "metadata": {},
     "output_type": "display_data"
    }
   ],
   "source": [
    "d = as.data.frame( cbind( pheno_test$response , pheno_test$score ) )\n",
    "colnames(d) = c( \"response\" , \"sig\" )\n",
    "d = d[ !is.na( d$response ) , ]\n",
    "d$response = as.numeric( as.character( d$response ) )\n",
    "d$sig = as.numeric( as.character( d$sig ) )\n",
    "basicplot <- ggplot(d, aes(d = response, m = sig )) + geom_roc(n.cuts = 100, labels = FALSE)\n",
    "calc_auc(basicplot)$AUC"
   ]
  },
  {
   "cell_type": "code",
   "execution_count": 15,
   "metadata": {},
   "outputs": [
    {
     "name": "stderr",
     "output_type": "stream",
     "text": [
      "Warning message:\n",
      "“\u001b[1m\u001b[22mThe following aesthetics were dropped during statistical transformation: \u001b[32md, m\u001b[39m\n",
      "\u001b[36mℹ\u001b[39m This can happen when ggplot fails to infer the correct grouping structure in\n",
      "  the data.\n",
      "\u001b[36mℹ\u001b[39m Did you forget to specify a `group` aesthetic or to convert a numerical\n",
      "  variable into a factor?”\n"
     ]
    },
    {
     "data": {
      "text/html": [
       "'auc of test_set:0.642233856893543'"
      ],
      "text/latex": [
       "'auc of test\\_set:0.642233856893543'"
      ],
      "text/markdown": [
       "'auc of test_set:0.642233856893543'"
      ],
      "text/plain": [
       "[1] \"auc of test_set:0.642233856893543\""
      ]
     },
     "metadata": {},
     "output_type": "display_data"
    },
    {
     "name": "stderr",
     "output_type": "stream",
     "text": [
      "Warning message:\n",
      "“\u001b[1m\u001b[22mThe following aesthetics were dropped during statistical transformation: \u001b[32md, m\u001b[39m\n",
      "\u001b[36mℹ\u001b[39m This can happen when ggplot fails to infer the correct grouping structure in\n",
      "  the data.\n",
      "\u001b[36mℹ\u001b[39m Did you forget to specify a `group` aesthetic or to convert a numerical\n",
      "  variable into a factor?”\n"
     ]
    },
    {
     "data": {
      "text/html": [
       "'auc of train_set:0.561268250117055'"
      ],
      "text/latex": [
       "'auc of train\\_set:0.561268250117055'"
      ],
      "text/markdown": [
       "'auc of train_set:0.561268250117055'"
      ],
      "text/plain": [
       "[1] \"auc of train_set:0.561268250117055\""
      ]
     },
     "metadata": {},
     "output_type": "display_data"
    }
   ],
   "source": [
    "d = as.data.frame( cbind( pheno_test_total$response , pheno_test_total$score ) )\n",
    "colnames(d) = c( \"response\" , \"sig\" )\n",
    "d = d[ !is.na( d$response ) , ]\n",
    "d$response = as.numeric( as.character( d$response ) )\n",
    "d$sig = as.numeric( as.character( d$sig ) )\n",
    "basicplot <- ggplot(d, aes(d = response, m = sig )) + geom_roc(n.cuts = 100, labels = FALSE)\n",
    "sprintf(\"auc of test_set:%s\", calc_auc(basicplot)$AUC)\n",
    "\n",
    "d = as.data.frame( cbind( pheno_train_total$response , pheno_train_total$score ) )\n",
    "colnames(d) = c( \"response\" , \"sig\" )\n",
    "d = d[ !is.na( d$response ) , ]\n",
    "d$response = as.numeric( as.character( d$response ) )\n",
    "d$sig = as.numeric( as.character( d$sig ) )\n",
    "basicplot <- ggplot(d, aes(d = response, m = sig )) + geom_roc(n.cuts = 100, labels = FALSE)\n",
    "sprintf(\"auc of train_set:%s\", calc_auc(basicplot)$AUC)\n"
   ]
  },
  {
   "cell_type": "code",
   "execution_count": null,
   "metadata": {},
   "outputs": [],
   "source": []
  },
  {
   "cell_type": "code",
   "execution_count": 18,
   "metadata": {},
   "outputs": [],
   "source": [
    "signature_list <- list.files(\"./TLS_project/results/signatures_ICB/\")\n",
    "signature_list <- signature_list[-which(signature_list==\"TMB\")]"
   ]
  },
  {
   "cell_type": "code",
   "execution_count": 40,
   "metadata": {
    "scrolled": true
   },
   "outputs": [
    {
     "name": "stderr",
     "output_type": "stream",
     "text": [
      "Warning message in .filterFeatures(expr, method):\n",
      "“1 genes with constant expression values throuhgout the samples.”\n"
     ]
    },
    {
     "name": "stdout",
     "output_type": "stream",
     "text": [
      "Estimating ssGSEA scores for 1 gene sets.\n",
      "[1] \"Calculating ranks...\"\n",
      "[1] \"Calculating absolute values from ranks...\"\n",
      "  |======================================================================| 100%\n",
      "\n",
      "[1] \"Normalizing...\"\n"
     ]
    },
    {
     "name": "stderr",
     "output_type": "stream",
     "text": [
      "Warning message in .filterFeatures(expr, method):\n",
      "“1 genes with constant expression values throuhgout the samples.”\n"
     ]
    },
    {
     "name": "stdout",
     "output_type": "stream",
     "text": [
      "Estimating ssGSEA scores for 1 gene sets.\n",
      "[1] \"Calculating ranks...\"\n",
      "[1] \"Calculating absolute values from ranks...\"\n",
      "  |======================================================================| 100%\n",
      "\n",
      "[1] \"Normalizing...\"\n"
     ]
    },
    {
     "name": "stderr",
     "output_type": "stream",
     "text": [
      "Warning message in .filterFeatures(expr, method):\n",
      "“1 genes with constant expression values throuhgout the samples.”\n"
     ]
    },
    {
     "name": "stdout",
     "output_type": "stream",
     "text": [
      "Estimating ssGSEA scores for 1 gene sets.\n",
      "[1] \"Calculating ranks...\"\n",
      "[1] \"Calculating absolute values from ranks...\"\n",
      "  |======================================================================| 100%\n",
      "\n",
      "[1] \"Normalizing...\"\n"
     ]
    },
    {
     "name": "stderr",
     "output_type": "stream",
     "text": [
      "Warning message in .filterFeatures(expr, method):\n",
      "“1 genes with constant expression values throuhgout the samples.”\n"
     ]
    },
    {
     "name": "stdout",
     "output_type": "stream",
     "text": [
      "Estimating ssGSEA scores for 1 gene sets.\n",
      "[1] \"Calculating ranks...\"\n",
      "[1] \"Calculating absolute values from ranks...\"\n",
      "  |======================================================================| 100%\n",
      "\n",
      "[1] \"Normalizing...\"\n"
     ]
    },
    {
     "name": "stderr",
     "output_type": "stream",
     "text": [
      "Warning message in .filterFeatures(expr, method):\n",
      "“1 genes with constant expression values throuhgout the samples.”\n"
     ]
    },
    {
     "name": "stdout",
     "output_type": "stream",
     "text": [
      "Estimating ssGSEA scores for 1 gene sets.\n",
      "[1] \"Calculating ranks...\"\n",
      "[1] \"Calculating absolute values from ranks...\"\n",
      "  |======================================================================| 100%\n",
      "\n",
      "[1] \"Normalizing...\"\n"
     ]
    }
   ],
   "source": [
    "pheno_test_df <- NULL\n",
    "for (sigenatureID in signature_list){\n",
    "    prefix <- paste0(\"./TLS_project/results/signatures_ICB/\", sigenatureID, \"/Pheno/\")\n",
    "    pheno_test_total <- NULL\n",
    "    for (i in 1:length(cancer_type_test)){\n",
    "        load(paste0(prefix, cancer_type_test[i], \".Rdata\"))\n",
    "        pheno_test_total <- rbind(pheno_test_total, pheno)\n",
    "    }\n",
    "    pheno_test_df <- rbind(pheno_test_df, cbind(pheno_test_total, sigenatureID))\n",
    "}\n",
    "\n",
    "pheno_test_total <- NULL\n",
    "for (per_test in 1:length(cancer_type_test)){\n",
    "    df_expression <- ICB_expr[[cancer_type_test[per_test]]]\n",
    "    response_geneset=data.frame(response_gene)\n",
    "    response_ssgsea <- GSVA::gsva(unique(as.matrix(df_expression)),\n",
    "                                  response_geneset,\n",
    "                                  method='ssgsea',\n",
    "                                  mx.diff=TRUE,\n",
    "                                  kcdf='Gaussian',\n",
    "                                  parallel.sz=1)\n",
    "    df_response_ssgsea=as.data.frame(t(response_ssgsea))\n",
    "    colnames(df_response_ssgsea)=\"response_ssgsea\"\n",
    "\n",
    "    pheno_test <- ICB_pheno[[cancer_type_test[per_test]]]\n",
    "    pheno_test$score <- df_response_ssgsea[match(pheno_test$sample_id, rownames(df_response_ssgsea)),]\n",
    "    pheno_test_total <- rbind(pheno_test_total, pheno_test)\n",
    "}\n",
    "pheno_test_df <- rbind(pheno_test_df, data.frame(pheno_test_total, sigenatureID = \"TLSscore\"))\n"
   ]
  },
  {
   "cell_type": "code",
   "execution_count": 47,
   "metadata": {
    "scrolled": true
   },
   "outputs": [
    {
     "name": "stderr",
     "output_type": "stream",
     "text": [
      "Warning message:\n",
      "“\u001b[1m\u001b[22mThe following aesthetics were dropped during statistical transformation: \u001b[32md, m\u001b[39m\n",
      "\u001b[36mℹ\u001b[39m This can happen when ggplot fails to infer the correct grouping structure in\n",
      "  the data.\n",
      "\u001b[36mℹ\u001b[39m Did you forget to specify a `group` aesthetic or to convert a numerical\n",
      "  variable into a factor?”\n"
     ]
    },
    {
     "data": {
      "image/png": "[encoded data removed]",
      "text/plain": [
       "plot without title"
      ]
     },
     "metadata": {
      "image/png": {
       "height": 420,
       "width": 420
      }
     },
     "output_type": "display_data"
    }
   ],
   "source": [
    "ggplot(data = pheno_test_df, aes(d = response, m = score, color = sigenatureID))+\n",
    "    geom_roc()"
   ]
  },
  {
   "cell_type": "code",
   "execution_count": 60,
   "metadata": {
    "scrolled": true
   },
   "outputs": [
    {
     "name": "stderr",
     "output_type": "stream",
     "text": [
      "Warning message:\n",
      "“\u001b[1m\u001b[22mThe following aesthetics were dropped during statistical transformation: \u001b[32md, m\u001b[39m\n",
      "\u001b[36mℹ\u001b[39m This can happen when ggplot fails to infer the correct grouping structure in\n",
      "  the data.\n",
      "\u001b[36mℹ\u001b[39m Did you forget to specify a `group` aesthetic or to convert a numerical\n",
      "  variable into a factor?”\n",
      "Warning message:\n",
      "“\u001b[1m\u001b[22mThe following aesthetics were dropped during statistical transformation: \u001b[32md, m\u001b[39m\n",
      "\u001b[36mℹ\u001b[39m This can happen when ggplot fails to infer the correct grouping structure in\n",
      "  the data.\n",
      "\u001b[36mℹ\u001b[39m Did you forget to specify a `group` aesthetic or to convert a numerical\n",
      "  variable into a factor?”\n",
      "Warning message:\n",
      "“\u001b[1m\u001b[22mThe following aesthetics were dropped during statistical transformation: \u001b[32md, m\u001b[39m\n",
      "\u001b[36mℹ\u001b[39m This can happen when ggplot fails to infer the correct grouping structure in\n",
      "  the data.\n",
      "\u001b[36mℹ\u001b[39m Did you forget to specify a `group` aesthetic or to convert a numerical\n",
      "  variable into a factor?”\n",
      "Warning message:\n",
      "“\u001b[1m\u001b[22mThe following aesthetics were dropped during statistical transformation: \u001b[32md, m\u001b[39m\n",
      "\u001b[36mℹ\u001b[39m This can happen when ggplot fails to infer the correct grouping structure in\n",
      "  the data.\n",
      "\u001b[36mℹ\u001b[39m Did you forget to specify a `group` aesthetic or to convert a numerical\n",
      "  variable into a factor?”\n",
      "Warning message:\n",
      "“\u001b[1m\u001b[22mThe following aesthetics were dropped during statistical transformation: \u001b[32md, m\u001b[39m\n",
      "\u001b[36mℹ\u001b[39m This can happen when ggplot fails to infer the correct grouping structure in\n",
      "  the data.\n",
      "\u001b[36mℹ\u001b[39m Did you forget to specify a `group` aesthetic or to convert a numerical\n",
      "  variable into a factor?”\n",
      "Warning message:\n",
      "“\u001b[1m\u001b[22mThe following aesthetics were dropped during statistical transformation: \u001b[32md, m\u001b[39m\n",
      "\u001b[36mℹ\u001b[39m This can happen when ggplot fails to infer the correct grouping structure in\n",
      "  the data.\n",
      "\u001b[36mℹ\u001b[39m Did you forget to specify a `group` aesthetic or to convert a numerical\n",
      "  variable into a factor?”\n",
      "Warning message:\n",
      "“\u001b[1m\u001b[22mThe following aesthetics were dropped during statistical transformation: \u001b[32md, m\u001b[39m\n",
      "\u001b[36mℹ\u001b[39m This can happen when ggplot fails to infer the correct grouping structure in\n",
      "  the data.\n",
      "\u001b[36mℹ\u001b[39m Did you forget to specify a `group` aesthetic or to convert a numerical\n",
      "  variable into a factor?”\n",
      "Warning message:\n",
      "“\u001b[1m\u001b[22mThe following aesthetics were dropped during statistical transformation: \u001b[32md, m\u001b[39m\n",
      "\u001b[36mℹ\u001b[39m This can happen when ggplot fails to infer the correct grouping structure in\n",
      "  the data.\n",
      "\u001b[36mℹ\u001b[39m Did you forget to specify a `group` aesthetic or to convert a numerical\n",
      "  variable into a factor?”\n",
      "Warning message:\n",
      "“\u001b[1m\u001b[22mThe following aesthetics were dropped during statistical transformation: \u001b[32md, m\u001b[39m\n",
      "\u001b[36mℹ\u001b[39m This can happen when ggplot fails to infer the correct grouping structure in\n",
      "  the data.\n",
      "\u001b[36mℹ\u001b[39m Did you forget to specify a `group` aesthetic or to convert a numerical\n",
      "  variable into a factor?”\n",
      "Warning message:\n",
      "“\u001b[1m\u001b[22mThe following aesthetics were dropped during statistical transformation: \u001b[32md, m\u001b[39m\n",
      "\u001b[36mℹ\u001b[39m This can happen when ggplot fails to infer the correct grouping structure in\n",
      "  the data.\n",
      "\u001b[36mℹ\u001b[39m Did you forget to specify a `group` aesthetic or to convert a numerical\n",
      "  variable into a factor?”\n",
      "Warning message:\n",
      "“\u001b[1m\u001b[22mThe following aesthetics were dropped during statistical transformation: \u001b[32md, m\u001b[39m\n",
      "\u001b[36mℹ\u001b[39m This can happen when ggplot fails to infer the correct grouping structure in\n",
      "  the data.\n",
      "\u001b[36mℹ\u001b[39m Did you forget to specify a `group` aesthetic or to convert a numerical\n",
      "  variable into a factor?”\n",
      "Warning message:\n",
      "“\u001b[1m\u001b[22mThe following aesthetics were dropped during statistical transformation: \u001b[32md, m\u001b[39m\n",
      "\u001b[36mℹ\u001b[39m This can happen when ggplot fails to infer the correct grouping structure in\n",
      "  the data.\n",
      "\u001b[36mℹ\u001b[39m Did you forget to specify a `group` aesthetic or to convert a numerical\n",
      "  variable into a factor?”\n"
     ]
    }
   ],
   "source": [
    "result <- NULL\n",
    "for (sigenatureID in unique(pheno_test_df$sigenatureID)){\n",
    "    pheno_test_filter <- pheno_test_df[which(pheno_test_df$sigenatureID == sigenatureID),]\n",
    "    d = as.data.frame( cbind( pheno_test_filter$response , pheno_test_filter$score ) )\n",
    "    colnames(d) = c( \"response\" , \"sig\" )\n",
    "    d = d[ !is.na( d$response ) , ]\n",
    "    d$response = as.numeric( as.character( d$response ) )\n",
    "    d$sig = as.numeric( as.character( d$sig ) )\n",
    "    basicplot <- ggplot(d, aes(d = response, m = sig )) + geom_roc(n.cuts = 100, labels = FALSE)\n",
    "    result <- rbind(result, c(sigenatureID, calc_auc(basicplot)$AUC))\n",
    "}"
   ]
  },
  {
   "cell_type": "code",
   "execution_count": 72,
   "metadata": {},
   "outputs": [
    {
     "data": {
      "image/png": "[encoded data removed]",
      "text/plain": [
       "plot without title"
      ]
     },
     "metadata": {
      "image/png": {
       "height": 420,
       "width": 420
      }
     },
     "output_type": "display_data"
    }
   ],
   "source": [
    "result <- as.data.frame(result)\n",
    "colnames(result) = c( \"sigenatureID\" , \"auc\" )\n",
    "ggplot(result, aes(y = auc, x = sigenatureID, fill = sigenatureID))+\n",
    "    geom_bar(stat=\"identity\")"
   ]
  },
  {
   "cell_type": "code",
   "execution_count": 67,
   "metadata": {},
   "outputs": [
    {
     "data": {
      "text/html": [
       "<table class=\"dataframe\">\n",
       "<caption>A data.frame: 12 × 2</caption>\n",
       "<thead>\n",
       "\t<tr><th scope=col>sigenatureID</th><th scope=col>auc</th></tr>\n",
       "\t<tr><th scope=col>&lt;chr&gt;</th><th scope=col>&lt;chr&gt;</th></tr>\n",
       "</thead>\n",
       "<tbody>\n",
       "\t<tr><td>COX_IS                 </td><td>0.521228675483995</td></tr>\n",
       "\t<tr><td>gs_12_Chemokine        </td><td>0.620648479838339</td></tr>\n",
       "\t<tr><td>gs_Clubb_James_H_A_etal</td><td>0.643657573252503</td></tr>\n",
       "\t<tr><td>gs_Meylan_Maxime_etal  </td><td>0.586295581886654</td></tr>\n",
       "\t<tr><td>gs_PagliaruloFabio_etal</td><td>0.580600716450813</td></tr>\n",
       "\t<tr><td>gs_Wang_Bin_etal       </td><td>0.657205841829705</td></tr>\n",
       "\t<tr><td>gs_Wu_Zhenghao_etal    </td><td>0.647331679985303</td></tr>\n",
       "\t<tr><td>IFN_score              </td><td>0.514471918727238</td></tr>\n",
       "\t<tr><td>infiltration           </td><td>0.612289887021218</td></tr>\n",
       "\t<tr><td>IPRES_score            </td><td>0.494872532106575</td></tr>\n",
       "\t<tr><td>IPS                    </td><td>0.511069580218516</td></tr>\n",
       "\t<tr><td>TLSscore               </td><td>0.642233856893543</td></tr>\n",
       "</tbody>\n",
       "</table>\n"
      ],
      "text/latex": [
       "A data.frame: 12 × 2\n",
       "\\begin{tabular}{ll}\n",
       " sigenatureID & auc\\\\\n",
       " <chr> & <chr>\\\\\n",
       "\\hline\n",
       "\t COX\\_IS                  & 0.521228675483995\\\\\n",
       "\t gs\\_12\\_Chemokine         & 0.620648479838339\\\\\n",
       "\t gs\\_Clubb\\_James\\_H\\_A\\_etal & 0.643657573252503\\\\\n",
       "\t gs\\_Meylan\\_Maxime\\_etal   & 0.586295581886654\\\\\n",
       "\t gs\\_PagliaruloFabio\\_etal & 0.580600716450813\\\\\n",
       "\t gs\\_Wang\\_Bin\\_etal        & 0.657205841829705\\\\\n",
       "\t gs\\_Wu\\_Zhenghao\\_etal     & 0.647331679985303\\\\\n",
       "\t IFN\\_score               & 0.514471918727238\\\\\n",
       "\t infiltration            & 0.612289887021218\\\\\n",
       "\t IPRES\\_score             & 0.494872532106575\\\\\n",
       "\t IPS                     & 0.511069580218516\\\\\n",
       "\t TLSscore                & 0.642233856893543\\\\\n",
       "\\end{tabular}\n"
      ],
      "text/markdown": [
       "\n",
       "A data.frame: 12 × 2\n",
       "\n",
       "| sigenatureID &lt;chr&gt; | auc &lt;chr&gt; |\n",
       "|---|---|\n",
       "| COX_IS                  | 0.521228675483995 |\n",
       "| gs_12_Chemokine         | 0.620648479838339 |\n",
       "| gs_Clubb_James_H_A_etal | 0.643657573252503 |\n",
       "| gs_Meylan_Maxime_etal   | 0.586295581886654 |\n",
       "| gs_PagliaruloFabio_etal | 0.580600716450813 |\n",
       "| gs_Wang_Bin_etal        | 0.657205841829705 |\n",
       "| gs_Wu_Zhenghao_etal     | 0.647331679985303 |\n",
       "| IFN_score               | 0.514471918727238 |\n",
       "| infiltration            | 0.612289887021218 |\n",
       "| IPRES_score             | 0.494872532106575 |\n",
       "| IPS                     | 0.511069580218516 |\n",
       "| TLSscore                | 0.642233856893543 |\n",
       "\n"
      ],
      "text/plain": [
       "   sigenatureID            auc              \n",
       "1  COX_IS                  0.521228675483995\n",
       "2  gs_12_Chemokine         0.620648479838339\n",
       "3  gs_Clubb_James_H_A_etal 0.643657573252503\n",
       "4  gs_Meylan_Maxime_etal   0.586295581886654\n",
       "5  gs_PagliaruloFabio_etal 0.580600716450813\n",
       "6  gs_Wang_Bin_etal        0.657205841829705\n",
       "7  gs_Wu_Zhenghao_etal     0.647331679985303\n",
       "8  IFN_score               0.514471918727238\n",
       "9  infiltration            0.612289887021218\n",
       "10 IPRES_score             0.494872532106575\n",
       "11 IPS                     0.511069580218516\n",
       "12 TLSscore                0.642233856893543"
      ]
     },
     "metadata": {},
     "output_type": "display_data"
    }
   ],
   "source": [
    "result"
   ]
  },
  {
   "cell_type": "code",
   "execution_count": 59,
   "metadata": {},
   "outputs": [
    {
     "name": "stderr",
     "output_type": "stream",
     "text": [
      "Warning message:\n",
      "“\u001b[1m\u001b[22mThe following aesthetics were dropped during statistical transformation: \u001b[32md, m\u001b[39m\n",
      "\u001b[36mℹ\u001b[39m This can happen when ggplot fails to infer the correct grouping structure in\n",
      "  the data.\n",
      "\u001b[36mℹ\u001b[39m Did you forget to specify a `group` aesthetic or to convert a numerical\n",
      "  variable into a factor?”\n"
     ]
    },
    {
     "data": {
      "text/html": [
       "0.642233856893543"
      ],
      "text/latex": [
       "0.642233856893543"
      ],
      "text/markdown": [
       "0.642233856893543"
      ],
      "text/plain": [
       "[1] 0.6422339"
      ]
     },
     "metadata": {},
     "output_type": "display_data"
    }
   ],
   "source": [
    "pheno_test_filter <- pheno_test_df[which(pheno_test_df$sigenatureID == sigenatureID),]\n",
    "d = as.data.frame( cbind( pheno_test_filter$response , pheno_test_filter$score ) )\n",
    "colnames(d) = c( \"response\" , \"sig\" )\n",
    "d = d[ !is.na( d$response ) , ]\n",
    "d$response = as.numeric( as.character( d$response ) )\n",
    "d$sig = as.numeric( as.character( d$sig ) )\n",
    "basicplot <- ggplot(d, aes(d = response, m = sig )) + geom_roc(n.cuts = 100, labels = FALSE)\n",
    "calc_auc(basicplot)$AUC"
   ]
  },
  {
   "cell_type": "code",
   "execution_count": 51,
   "metadata": {},
   "outputs": [
    {
     "data": {
      "text/html": [
       "<style>\n",
       ".list-inline {list-style: none; margin:0; padding: 0}\n",
       ".list-inline>li {display: inline-block}\n",
       ".list-inline>li:not(:last-child)::after {content: \"\\00b7\"; padding: 0 .5ex}\n",
       "</style>\n",
       "<ol class=list-inline><li>1</li><li>2</li><li>3</li><li>4</li><li>5</li><li>6</li><li>7</li><li>8</li><li>9</li><li>10</li><li>11</li><li>12</li><li>13</li><li>14</li><li>15</li><li>16</li><li>17</li><li>18</li><li>19</li><li>20</li><li>21</li><li>22</li><li>23</li><li>24</li><li>25</li><li>26</li><li>27</li><li>28</li><li>29</li><li>30</li><li>31</li><li>32</li><li>33</li><li>34</li><li>35</li><li>36</li><li>37</li><li>38</li><li>39</li><li>40</li><li>41</li><li>42</li><li>43</li><li>44</li><li>45</li><li>46</li><li>47</li><li>48</li><li>49</li><li>50</li><li>51</li><li>52</li><li>53</li><li>54</li><li>55</li><li>56</li><li>57</li><li>58</li><li>59</li><li>60</li><li>61</li><li>62</li><li>63</li><li>64</li><li>65</li><li>66</li><li>67</li><li>68</li><li>69</li><li>70</li><li>71</li><li>72</li><li>73</li><li>74</li><li>75</li><li>76</li><li>77</li><li>78</li><li>79</li><li>80</li><li>81</li><li>82</li><li>83</li><li>84</li><li>85</li><li>86</li><li>87</li><li>88</li><li>89</li><li>90</li><li>91</li><li>92</li><li>93</li><li>94</li><li>95</li><li>96</li><li>97</li><li>98</li><li>99</li><li>100</li><li>101</li><li>102</li><li>103</li><li>104</li><li>105</li><li>106</li><li>107</li><li>108</li><li>109</li><li>110</li><li>111</li><li>112</li><li>113</li><li>114</li><li>115</li><li>116</li><li>117</li><li>118</li><li>119</li><li>120</li><li>121</li><li>122</li><li>123</li><li>124</li><li>125</li><li>126</li><li>127</li><li>128</li><li>129</li><li>130</li><li>131</li><li>132</li><li>133</li><li>134</li><li>135</li><li>136</li><li>137</li><li>138</li><li>139</li><li>140</li><li>141</li><li>142</li><li>143</li><li>144</li><li>145</li><li>146</li><li>147</li><li>148</li><li>149</li><li>150</li><li>151</li><li>152</li><li>153</li><li>154</li><li>155</li><li>156</li><li>157</li><li>158</li><li>159</li><li>160</li><li>161</li><li>162</li><li>163</li><li>164</li><li>165</li><li>166</li><li>167</li><li>168</li><li>169</li><li>170</li><li>171</li><li>172</li><li>173</li><li>174</li><li>175</li><li>176</li><li>177</li><li>178</li><li>179</li><li>180</li><li>181</li><li>182</li><li>183</li><li>184</li><li>185</li><li>186</li><li>187</li><li>188</li><li>189</li><li>190</li><li>191</li><li>192</li><li>193</li><li>194</li><li>195</li><li>196</li><li>197</li><li>198</li><li>199</li><li>200</li><li>201</li><li>202</li><li>203</li><li>204</li><li>205</li><li>206</li><li>207</li><li>208</li><li>209</li><li>210</li><li>211</li><li>212</li><li>213</li><li>214</li><li>215</li><li>216</li><li>217</li><li>218</li><li>219</li><li>220</li><li>221</li><li>222</li><li>223</li><li>224</li><li>225</li><li>226</li><li>227</li><li>228</li><li>229</li><li>230</li><li>231</li><li>232</li><li>233</li><li>234</li><li>235</li><li>236</li><li>237</li><li>238</li><li>239</li><li>240</li><li>241</li><li>242</li><li>243</li><li>244</li><li>245</li><li>246</li><li>247</li><li>248</li><li>249</li><li>250</li><li>251</li><li>252</li><li>253</li><li>254</li><li>255</li><li>256</li><li>257</li><li>258</li><li>259</li><li>260</li><li>261</li><li>262</li><li>263</li><li>264</li><li>265</li><li>266</li><li>267</li><li>268</li><li>269</li><li>270</li><li>271</li><li>272</li><li>273</li><li>274</li><li>275</li><li>276</li><li>277</li><li>278</li><li>279</li><li>280</li><li>281</li><li>282</li><li>283</li><li>284</li><li>285</li><li>286</li><li>287</li><li>288</li><li>289</li><li>290</li><li>291</li><li>292</li><li>293</li><li>294</li><li>295</li><li>296</li><li>297</li><li>298</li><li>299</li></ol>\n"
      ],
      "text/latex": [
       "\\begin{enumerate*}\n",
       "\\item 1\n",
       "\\item 2\n",
       "\\item 3\n",
       "\\item 4\n",
       "\\item 5\n",
       "\\item 6\n",
       "\\item 7\n",
       "\\item 8\n",
       "\\item 9\n",
       "\\item 10\n",
       "\\item 11\n",
       "\\item 12\n",
       "\\item 13\n",
       "\\item 14\n",
       "\\item 15\n",
       "\\item 16\n",
       "\\item 17\n",
       "\\item 18\n",
       "\\item 19\n",
       "\\item 20\n",
       "\\item 21\n",
       "\\item 22\n",
       "\\item 23\n",
       "\\item 24\n",
       "\\item 25\n",
       "\\item 26\n",
       "\\item 27\n",
       "\\item 28\n",
       "\\item 29\n",
       "\\item 30\n",
       "\\item 31\n",
       "\\item 32\n",
       "\\item 33\n",
       "\\item 34\n",
       "\\item 35\n",
       "\\item 36\n",
       "\\item 37\n",
       "\\item 38\n",
       "\\item 39\n",
       "\\item 40\n",
       "\\item 41\n",
       "\\item 42\n",
       "\\item 43\n",
       "\\item 44\n",
       "\\item 45\n",
       "\\item 46\n",
       "\\item 47\n",
       "\\item 48\n",
       "\\item 49\n",
       "\\item 50\n",
       "\\item 51\n",
       "\\item 52\n",
       "\\item 53\n",
       "\\item 54\n",
       "\\item 55\n",
       "\\item 56\n",
       "\\item 57\n",
       "\\item 58\n",
       "\\item 59\n",
       "\\item 60\n",
       "\\item 61\n",
       "\\item 62\n",
       "\\item 63\n",
       "\\item 64\n",
       "\\item 65\n",
       "\\item 66\n",
       "\\item 67\n",
       "\\item 68\n",
       "\\item 69\n",
       "\\item 70\n",
       "\\item 71\n",
       "\\item 72\n",
       "\\item 73\n",
       "\\item 74\n",
       "\\item 75\n",
       "\\item 76\n",
       "\\item 77\n",
       "\\item 78\n",
       "\\item 79\n",
       "\\item 80\n",
       "\\item 81\n",
       "\\item 82\n",
       "\\item 83\n",
       "\\item 84\n",
       "\\item 85\n",
       "\\item 86\n",
       "\\item 87\n",
       "\\item 88\n",
       "\\item 89\n",
       "\\item 90\n",
       "\\item 91\n",
       "\\item 92\n",
       "\\item 93\n",
       "\\item 94\n",
       "\\item 95\n",
       "\\item 96\n",
       "\\item 97\n",
       "\\item 98\n",
       "\\item 99\n",
       "\\item 100\n",
       "\\item 101\n",
       "\\item 102\n",
       "\\item 103\n",
       "\\item 104\n",
       "\\item 105\n",
       "\\item 106\n",
       "\\item 107\n",
       "\\item 108\n",
       "\\item 109\n",
       "\\item 110\n",
       "\\item 111\n",
       "\\item 112\n",
       "\\item 113\n",
       "\\item 114\n",
       "\\item 115\n",
       "\\item 116\n",
       "\\item 117\n",
       "\\item 118\n",
       "\\item 119\n",
       "\\item 120\n",
       "\\item 121\n",
       "\\item 122\n",
       "\\item 123\n",
       "\\item 124\n",
       "\\item 125\n",
       "\\item 126\n",
       "\\item 127\n",
       "\\item 128\n",
       "\\item 129\n",
       "\\item 130\n",
       "\\item 131\n",
       "\\item 132\n",
       "\\item 133\n",
       "\\item 134\n",
       "\\item 135\n",
       "\\item 136\n",
       "\\item 137\n",
       "\\item 138\n",
       "\\item 139\n",
       "\\item 140\n",
       "\\item 141\n",
       "\\item 142\n",
       "\\item 143\n",
       "\\item 144\n",
       "\\item 145\n",
       "\\item 146\n",
       "\\item 147\n",
       "\\item 148\n",
       "\\item 149\n",
       "\\item 150\n",
       "\\item 151\n",
       "\\item 152\n",
       "\\item 153\n",
       "\\item 154\n",
       "\\item 155\n",
       "\\item 156\n",
       "\\item 157\n",
       "\\item 158\n",
       "\\item 159\n",
       "\\item 160\n",
       "\\item 161\n",
       "\\item 162\n",
       "\\item 163\n",
       "\\item 164\n",
       "\\item 165\n",
       "\\item 166\n",
       "\\item 167\n",
       "\\item 168\n",
       "\\item 169\n",
       "\\item 170\n",
       "\\item 171\n",
       "\\item 172\n",
       "\\item 173\n",
       "\\item 174\n",
       "\\item 175\n",
       "\\item 176\n",
       "\\item 177\n",
       "\\item 178\n",
       "\\item 179\n",
       "\\item 180\n",
       "\\item 181\n",
       "\\item 182\n",
       "\\item 183\n",
       "\\item 184\n",
       "\\item 185\n",
       "\\item 186\n",
       "\\item 187\n",
       "\\item 188\n",
       "\\item 189\n",
       "\\item 190\n",
       "\\item 191\n",
       "\\item 192\n",
       "\\item 193\n",
       "\\item 194\n",
       "\\item 195\n",
       "\\item 196\n",
       "\\item 197\n",
       "\\item 198\n",
       "\\item 199\n",
       "\\item 200\n",
       "\\item 201\n",
       "\\item 202\n",
       "\\item 203\n",
       "\\item 204\n",
       "\\item 205\n",
       "\\item 206\n",
       "\\item 207\n",
       "\\item 208\n",
       "\\item 209\n",
       "\\item 210\n",
       "\\item 211\n",
       "\\item 212\n",
       "\\item 213\n",
       "\\item 214\n",
       "\\item 215\n",
       "\\item 216\n",
       "\\item 217\n",
       "\\item 218\n",
       "\\item 219\n",
       "\\item 220\n",
       "\\item 221\n",
       "\\item 222\n",
       "\\item 223\n",
       "\\item 224\n",
       "\\item 225\n",
       "\\item 226\n",
       "\\item 227\n",
       "\\item 228\n",
       "\\item 229\n",
       "\\item 230\n",
       "\\item 231\n",
       "\\item 232\n",
       "\\item 233\n",
       "\\item 234\n",
       "\\item 235\n",
       "\\item 236\n",
       "\\item 237\n",
       "\\item 238\n",
       "\\item 239\n",
       "\\item 240\n",
       "\\item 241\n",
       "\\item 242\n",
       "\\item 243\n",
       "\\item 244\n",
       "\\item 245\n",
       "\\item 246\n",
       "\\item 247\n",
       "\\item 248\n",
       "\\item 249\n",
       "\\item 250\n",
       "\\item 251\n",
       "\\item 252\n",
       "\\item 253\n",
       "\\item 254\n",
       "\\item 255\n",
       "\\item 256\n",
       "\\item 257\n",
       "\\item 258\n",
       "\\item 259\n",
       "\\item 260\n",
       "\\item 261\n",
       "\\item 262\n",
       "\\item 263\n",
       "\\item 264\n",
       "\\item 265\n",
       "\\item 266\n",
       "\\item 267\n",
       "\\item 268\n",
       "\\item 269\n",
       "\\item 270\n",
       "\\item 271\n",
       "\\item 272\n",
       "\\item 273\n",
       "\\item 274\n",
       "\\item 275\n",
       "\\item 276\n",
       "\\item 277\n",
       "\\item 278\n",
       "\\item 279\n",
       "\\item 280\n",
       "\\item 281\n",
       "\\item 282\n",
       "\\item 283\n",
       "\\item 284\n",
       "\\item 285\n",
       "\\item 286\n",
       "\\item 287\n",
       "\\item 288\n",
       "\\item 289\n",
       "\\item 290\n",
       "\\item 291\n",
       "\\item 292\n",
       "\\item 293\n",
       "\\item 294\n",
       "\\item 295\n",
       "\\item 296\n",
       "\\item 297\n",
       "\\item 298\n",
       "\\item 299\n",
       "\\end{enumerate*}\n"
      ],
      "text/markdown": [
       "1. 1\n",
       "2. 2\n",
       "3. 3\n",
       "4. 4\n",
       "5. 5\n",
       "6. 6\n",
       "7. 7\n",
       "8. 8\n",
       "9. 9\n",
       "10. 10\n",
       "11. 11\n",
       "12. 12\n",
       "13. 13\n",
       "14. 14\n",
       "15. 15\n",
       "16. 16\n",
       "17. 17\n",
       "18. 18\n",
       "19. 19\n",
       "20. 20\n",
       "21. 21\n",
       "22. 22\n",
       "23. 23\n",
       "24. 24\n",
       "25. 25\n",
       "26. 26\n",
       "27. 27\n",
       "28. 28\n",
       "29. 29\n",
       "30. 30\n",
       "31. 31\n",
       "32. 32\n",
       "33. 33\n",
       "34. 34\n",
       "35. 35\n",
       "36. 36\n",
       "37. 37\n",
       "38. 38\n",
       "39. 39\n",
       "40. 40\n",
       "41. 41\n",
       "42. 42\n",
       "43. 43\n",
       "44. 44\n",
       "45. 45\n",
       "46. 46\n",
       "47. 47\n",
       "48. 48\n",
       "49. 49\n",
       "50. 50\n",
       "51. 51\n",
       "52. 52\n",
       "53. 53\n",
       "54. 54\n",
       "55. 55\n",
       "56. 56\n",
       "57. 57\n",
       "58. 58\n",
       "59. 59\n",
       "60. 60\n",
       "61. 61\n",
       "62. 62\n",
       "63. 63\n",
       "64. 64\n",
       "65. 65\n",
       "66. 66\n",
       "67. 67\n",
       "68. 68\n",
       "69. 69\n",
       "70. 70\n",
       "71. 71\n",
       "72. 72\n",
       "73. 73\n",
       "74. 74\n",
       "75. 75\n",
       "76. 76\n",
       "77. 77\n",
       "78. 78\n",
       "79. 79\n",
       "80. 80\n",
       "81. 81\n",
       "82. 82\n",
       "83. 83\n",
       "84. 84\n",
       "85. 85\n",
       "86. 86\n",
       "87. 87\n",
       "88. 88\n",
       "89. 89\n",
       "90. 90\n",
       "91. 91\n",
       "92. 92\n",
       "93. 93\n",
       "94. 94\n",
       "95. 95\n",
       "96. 96\n",
       "97. 97\n",
       "98. 98\n",
       "99. 99\n",
       "100. 100\n",
       "101. 101\n",
       "102. 102\n",
       "103. 103\n",
       "104. 104\n",
       "105. 105\n",
       "106. 106\n",
       "107. 107\n",
       "108. 108\n",
       "109. 109\n",
       "110. 110\n",
       "111. 111\n",
       "112. 112\n",
       "113. 113\n",
       "114. 114\n",
       "115. 115\n",
       "116. 116\n",
       "117. 117\n",
       "118. 118\n",
       "119. 119\n",
       "120. 120\n",
       "121. 121\n",
       "122. 122\n",
       "123. 123\n",
       "124. 124\n",
       "125. 125\n",
       "126. 126\n",
       "127. 127\n",
       "128. 128\n",
       "129. 129\n",
       "130. 130\n",
       "131. 131\n",
       "132. 132\n",
       "133. 133\n",
       "134. 134\n",
       "135. 135\n",
       "136. 136\n",
       "137. 137\n",
       "138. 138\n",
       "139. 139\n",
       "140. 140\n",
       "141. 141\n",
       "142. 142\n",
       "143. 143\n",
       "144. 144\n",
       "145. 145\n",
       "146. 146\n",
       "147. 147\n",
       "148. 148\n",
       "149. 149\n",
       "150. 150\n",
       "151. 151\n",
       "152. 152\n",
       "153. 153\n",
       "154. 154\n",
       "155. 155\n",
       "156. 156\n",
       "157. 157\n",
       "158. 158\n",
       "159. 159\n",
       "160. 160\n",
       "161. 161\n",
       "162. 162\n",
       "163. 163\n",
       "164. 164\n",
       "165. 165\n",
       "166. 166\n",
       "167. 167\n",
       "168. 168\n",
       "169. 169\n",
       "170. 170\n",
       "171. 171\n",
       "172. 172\n",
       "173. 173\n",
       "174. 174\n",
       "175. 175\n",
       "176. 176\n",
       "177. 177\n",
       "178. 178\n",
       "179. 179\n",
       "180. 180\n",
       "181. 181\n",
       "182. 182\n",
       "183. 183\n",
       "184. 184\n",
       "185. 185\n",
       "186. 186\n",
       "187. 187\n",
       "188. 188\n",
       "189. 189\n",
       "190. 190\n",
       "191. 191\n",
       "192. 192\n",
       "193. 193\n",
       "194. 194\n",
       "195. 195\n",
       "196. 196\n",
       "197. 197\n",
       "198. 198\n",
       "199. 199\n",
       "200. 200\n",
       "201. 201\n",
       "202. 202\n",
       "203. 203\n",
       "204. 204\n",
       "205. 205\n",
       "206. 206\n",
       "207. 207\n",
       "208. 208\n",
       "209. 209\n",
       "210. 210\n",
       "211. 211\n",
       "212. 212\n",
       "213. 213\n",
       "214. 214\n",
       "215. 215\n",
       "216. 216\n",
       "217. 217\n",
       "218. 218\n",
       "219. 219\n",
       "220. 220\n",
       "221. 221\n",
       "222. 222\n",
       "223. 223\n",
       "224. 224\n",
       "225. 225\n",
       "226. 226\n",
       "227. 227\n",
       "228. 228\n",
       "229. 229\n",
       "230. 230\n",
       "231. 231\n",
       "232. 232\n",
       "233. 233\n",
       "234. 234\n",
       "235. 235\n",
       "236. 236\n",
       "237. 237\n",
       "238. 238\n",
       "239. 239\n",
       "240. 240\n",
       "241. 241\n",
       "242. 242\n",
       "243. 243\n",
       "244. 244\n",
       "245. 245\n",
       "246. 246\n",
       "247. 247\n",
       "248. 248\n",
       "249. 249\n",
       "250. 250\n",
       "251. 251\n",
       "252. 252\n",
       "253. 253\n",
       "254. 254\n",
       "255. 255\n",
       "256. 256\n",
       "257. 257\n",
       "258. 258\n",
       "259. 259\n",
       "260. 260\n",
       "261. 261\n",
       "262. 262\n",
       "263. 263\n",
       "264. 264\n",
       "265. 265\n",
       "266. 266\n",
       "267. 267\n",
       "268. 268\n",
       "269. 269\n",
       "270. 270\n",
       "271. 271\n",
       "272. 272\n",
       "273. 273\n",
       "274. 274\n",
       "275. 275\n",
       "276. 276\n",
       "277. 277\n",
       "278. 278\n",
       "279. 279\n",
       "280. 280\n",
       "281. 281\n",
       "282. 282\n",
       "283. 283\n",
       "284. 284\n",
       "285. 285\n",
       "286. 286\n",
       "287. 287\n",
       "288. 288\n",
       "289. 289\n",
       "290. 290\n",
       "291. 291\n",
       "292. 292\n",
       "293. 293\n",
       "294. 294\n",
       "295. 295\n",
       "296. 296\n",
       "297. 297\n",
       "298. 298\n",
       "299. 299\n",
       "\n",
       "\n"
      ],
      "text/plain": [
       "  [1]   1   2   3   4   5   6   7   8   9  10  11  12  13  14  15  16  17  18\n",
       " [19]  19  20  21  22  23  24  25  26  27  28  29  30  31  32  33  34  35  36\n",
       " [37]  37  38  39  40  41  42  43  44  45  46  47  48  49  50  51  52  53  54\n",
       " [55]  55  56  57  58  59  60  61  62  63  64  65  66  67  68  69  70  71  72\n",
       " [73]  73  74  75  76  77  78  79  80  81  82  83  84  85  86  87  88  89  90\n",
       " [91]  91  92  93  94  95  96  97  98  99 100 101 102 103 104 105 106 107 108\n",
       "[109] 109 110 111 112 113 114 115 116 117 118 119 120 121 122 123 124 125 126\n",
       "[127] 127 128 129 130 131 132 133 134 135 136 137 138 139 140 141 142 143 144\n",
       "[145] 145 146 147 148 149 150 151 152 153 154 155 156 157 158 159 160 161 162\n",
       "[163] 163 164 165 166 167 168 169 170 171 172 173 174 175 176 177 178 179 180\n",
       "[181] 181 182 183 184 185 186 187 188 189 190 191 192 193 194 195 196 197 198\n",
       "[199] 199 200 201 202 203 204 205 206 207 208 209 210 211 212 213 214 215 216\n",
       "[217] 217 218 219 220 221 222 223 224 225 226 227 228 229 230 231 232 233 234\n",
       "[235] 235 236 237 238 239 240 241 242 243 244 245 246 247 248 249 250 251 252\n",
       "[253] 253 254 255 256 257 258 259 260 261 262 263 264 265 266 267 268 269 270\n",
       "[271] 271 272 273 274 275 276 277 278 279 280 281 282 283 284 285 286 287 288\n",
       "[289] 289 290 291 292 293 294 295 296 297 298 299"
      ]
     },
     "metadata": {},
     "output_type": "display_data"
    }
   ],
   "source": [
    "which(pheno_test_df$sigenatureID == sigenatureID)"
   ]
  },
  {
   "cell_type": "code",
   "execution_count": 23,
   "metadata": {},
   "outputs": [
    {
     "name": "stderr",
     "output_type": "stream",
     "text": [
      "Warning message:\n",
      "“\u001b[1m\u001b[22mThe following aesthetics were dropped during statistical transformation: \u001b[32md, m\u001b[39m\n",
      "\u001b[36mℹ\u001b[39m This can happen when ggplot fails to infer the correct grouping structure in\n",
      "  the data.\n",
      "\u001b[36mℹ\u001b[39m Did you forget to specify a `group` aesthetic or to convert a numerical\n",
      "  variable into a factor?”\n"
     ]
    },
    {
     "data": {
      "image/png": "[encoded data removed]",
      "text/plain": [
       "plot without title"
      ]
     },
     "metadata": {
      "image/png": {
       "height": 420,
       "width": 420
      }
     },
     "output_type": "display_data"
    }
   ],
   "source": [
    "d = as.data.frame( cbind( pheno_test_total$response , pheno_test_total$score ) )\n",
    "colnames(d) = c( \"response\" , \"sig\" )\n",
    "d = d[ !is.na( d$response ) , ]\n",
    "d$response = as.numeric( as.character( d$response ) )\n",
    "d$sig = as.numeric( as.character( d$sig ) )\n",
    "basicplot <- ggplot(d, aes(d = response, m = sig )) + geom_roc(n.cuts = 100, labels = FALSE)\n",
    "basicplot"
   ]
  }
 ],
 "metadata": {
  "kernelspec": {
   "display_name": "R_4.2.3",
   "language": "R",
   "name": "r"
  },
  "language_info": {
   "codemirror_mode": "r",
   "file_extension": ".r",
   "mimetype": "text/x-r-source",
   "name": "R",
   "pygments_lexer": "r",
   "version": "4.2.3"
  }
 },
 "nbformat": 4,
 "nbformat_minor": 2
}
